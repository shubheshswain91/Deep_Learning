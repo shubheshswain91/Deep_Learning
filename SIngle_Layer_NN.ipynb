{
  "nbformat": 4,
  "nbformat_minor": 0,
  "metadata": {
    "colab": {
      "name": "SIngle-Layer NN.ipynb",
      "provenance": []
    },
    "kernelspec": {
      "name": "python3",
      "display_name": "Python 3"
    },
    "language_info": {
      "name": "python"
    }
  },
  "cells": [
    {
      "cell_type": "markdown",
      "metadata": {
        "id": "AMd1YIbc7Nyn"
      },
      "source": [
        "Creating a Single-Layer Neural Network for a quick refresher of Deep Learning uisng Pytorch Library"
      ]
    },
    {
      "cell_type": "code",
      "metadata": {
        "id": "PdJTfxdM7IK4"
      },
      "source": [
        "#Import the required library\n",
        "\n",
        "import torch\n",
        "import torch.nn as nn\n",
        "import matplotlib.pyplot as plt"
      ],
      "execution_count": 1,
      "outputs": []
    },
    {
      "cell_type": "markdown",
      "metadata": {
        "id": "VovDc_5b7qgl"
      },
      "source": [
        "Creating a dummy input data(x) of random values and dummy target data (y) that only contains 0s and 1s. Store it in the data in PyTorch tensors. Tensors x will have a size of (100,5), while the size of y will be (100,1)"
      ]
    },
    {
      "cell_type": "code",
      "metadata": {
        "id": "-E2ONW5i7br1"
      },
      "source": [
        "x = torch.randn(100,5)\n",
        "y = torch.randint(0,2, (100,1)).type(torch.FloatTensor)"
      ],
      "execution_count": 2,
      "outputs": []
    },
    {
      "cell_type": "markdown",
      "metadata": {
        "id": "EpadiD408b1Z"
      },
      "source": [
        "Next we will define the architecture of the model and store it ina variable named model."
      ]
    },
    {
      "cell_type": "code",
      "metadata": {
        "id": "D0h8HVoB8bNn"
      },
      "source": [
        "model = nn.Sequential(nn.Linear(5,1),\n",
        "                   nn.Sigmoid())"
      ],
      "execution_count": 4,
      "outputs": []
    },
    {
      "cell_type": "markdown",
      "metadata": {
        "id": "EKPlX5hl8y5A"
      },
      "source": [
        "Now we will define the loss function to be used. We will use the Mean Square Error loss function."
      ]
    },
    {
      "cell_type": "code",
      "metadata": {
        "id": "h3Uup7xu8vpK"
      },
      "source": [
        "loss_function = torch.nn.MSELoss()"
      ],
      "execution_count": 5,
      "outputs": []
    },
    {
      "cell_type": "markdown",
      "metadata": {
        "id": "RsmDKHwb9Ask"
      },
      "source": [
        "We will define the optimizer of our model. We will be using the Adam optimizer  and a learning rate of 0.01"
      ]
    },
    {
      "cell_type": "code",
      "metadata": {
        "id": "MDCcM05O8_0s"
      },
      "source": [
        "optimizer = torch.optim.Adam(model.parameters(), lr=0.01)"
      ],
      "execution_count": 6,
      "outputs": []
    },
    {
      "cell_type": "markdown",
      "metadata": {
        "id": "TdEZYyTf9U7X"
      },
      "source": [
        "We will run the optimization for 100 iterations, and along with it, we will print and save the loss values"
      ]
    },
    {
      "cell_type": "code",
      "metadata": {
        "colab": {
          "base_uri": "https://localhost:8080/"
        },
        "id": "lNrttCHt9T1D",
        "outputId": "9ebd803b-0eef-42f1-d8e1-06df9e98cb76"
      },
      "source": [
        "losses = []\n",
        "\n",
        "for i in range(100):\n",
        "  # Call to the model to perform a prediction\n",
        "  y_pred = model(x)\n",
        "\n",
        "  # Calculation of loss function based on y_pred and y\n",
        "  loss = loss_function(y_pred, y)\n",
        "\n",
        "  print(loss.item())\n",
        "\n",
        "\n",
        "  losses.append(loss.item())\n",
        "\n",
        "  #Zero the gradients so that previous ones don't accumulate\n",
        "  optimizer.zero_grad()\n",
        "\n",
        "  #Calculate the gradients of the loss function\n",
        "  loss.backward()\n",
        "\n",
        "  #Call to the optimizer to perform an update of the parameters\n",
        "  optimizer.step()"
      ],
      "execution_count": 7,
      "outputs": [
        {
          "output_type": "stream",
          "name": "stdout",
          "text": [
            "0.28072789311408997\n",
            "0.278934508562088\n",
            "0.277182936668396\n",
            "0.27547580003738403\n",
            "0.27381545305252075\n",
            "0.27220359444618225\n",
            "0.2706412374973297\n",
            "0.26912862062454224\n",
            "0.26766523718833923\n",
            "0.26625052094459534\n",
            "0.264883816242218\n",
            "0.26356425881385803\n",
            "0.26229098439216614\n",
            "0.26106253266334534\n",
            "0.25987687706947327\n",
            "0.25873178243637085\n",
            "0.2576247453689575\n",
            "0.25655317306518555\n",
            "0.25551506876945496\n",
            "0.2545087933540344\n",
            "0.25353339314460754\n",
            "0.2525884509086609\n",
            "0.2516738474369049\n",
            "0.25078973174095154\n",
            "0.24993616342544556\n",
            "0.2491130828857422\n",
            "0.24832025170326233\n",
            "0.2475573867559433\n",
            "0.24682387709617615\n",
            "0.24611927568912506\n",
            "0.24544282257556915\n",
            "0.2447938174009323\n",
            "0.2441714107990265\n",
            "0.24357452988624573\n",
            "0.24300198256969452\n",
            "0.2424524873495102\n",
            "0.24192477762699127\n",
            "0.24141749739646912\n",
            "0.2409295290708542\n",
            "0.24045979976654053\n",
            "0.2400074452161789\n",
            "0.23957152664661407\n",
            "0.23915135860443115\n",
            "0.23874624073505402\n",
            "0.23835556209087372\n",
            "0.2379787266254425\n",
            "0.23761536180973053\n",
            "0.23726506531238556\n",
            "0.2369275689125061\n",
            "0.23660263419151306\n",
            "0.23628999292850494\n",
            "0.23598936200141907\n",
            "0.23570048809051514\n",
            "0.23542307317256927\n",
            "0.2351568192243576\n",
            "0.23490144312381744\n",
            "0.23465660214424133\n",
            "0.2344219982624054\n",
            "0.23419725894927979\n",
            "0.23398195207118988\n",
            "0.23377573490142822\n",
            "0.233578160405159\n",
            "0.23338890075683594\n",
            "0.2332075834274292\n",
            "0.23303383588790894\n",
            "0.23286737501621246\n",
            "0.23270784318447113\n",
            "0.23255504667758942\n",
            "0.23240867257118225\n",
            "0.23226851224899292\n",
            "0.23213434219360352\n",
            "0.2320059984922409\n",
            "0.23188327252864838\n",
            "0.23176607489585876\n",
            "0.2316541075706482\n",
            "0.2315472960472107\n",
            "0.23144540190696716\n",
            "0.23134832084178925\n",
            "0.23125582933425903\n",
            "0.23116780817508698\n",
            "0.23108407855033875\n",
            "0.23100446164608002\n",
            "0.23092880845069885\n",
            "0.23085695505142212\n",
            "0.2307887226343155\n",
            "0.23072394728660583\n",
            "0.230662539601326\n",
            "0.23060429096221924\n",
            "0.23054911196231842\n",
            "0.23049676418304443\n",
            "0.23044723272323608\n",
            "0.23040033876895905\n",
            "0.23035591840744019\n",
            "0.23031392693519592\n",
            "0.23027415573596954\n",
            "0.23023658990859985\n",
            "0.23020105063915253\n",
            "0.2301674634218216\n",
            "0.2301356941461563\n",
            "0.2301056683063507\n"
          ]
        }
      ]
    },
    {
      "cell_type": "markdown",
      "metadata": {
        "id": "nAMMbuxG992l"
      },
      "source": [
        "We will print the values of the final weights and bias. There should be a total of five weights(one for each feature of the input data) and one bias value:"
      ]
    },
    {
      "cell_type": "code",
      "metadata": {
        "colab": {
          "base_uri": "https://localhost:8080/"
        },
        "id": "EP9eikjK-Nyl",
        "outputId": "0d0916e2-1029-43ae-b03c-5d1bc7d535e9"
      },
      "source": [
        "model.state_dict()"
      ],
      "execution_count": 8,
      "outputs": [
        {
          "output_type": "execute_result",
          "data": {
            "text/plain": [
              "OrderedDict([('0.weight',\n",
              "              tensor([[ 0.0562,  0.2752,  0.0296,  0.3522, -0.1766]])),\n",
              "             ('0.bias', tensor([0.2347]))])"
            ]
          },
          "metadata": {},
          "execution_count": 8
        }
      ]
    },
    {
      "cell_type": "markdown",
      "metadata": {
        "id": "-I8weseF-QNm"
      },
      "source": [
        "Finally, we will plot to display the loss value for each iterations step"
      ]
    },
    {
      "cell_type": "code",
      "metadata": {
        "colab": {
          "base_uri": "https://localhost:8080/",
          "height": 265
        },
        "id": "k8cRLEMd-YoX",
        "outputId": "f4401e58-9996-4f07-864e-2d9c8279b146"
      },
      "source": [
        "plt.plot(range(0,100), losses)\n",
        "plt.show()"
      ],
      "execution_count": 9,
      "outputs": [
        {
          "output_type": "display_data",
          "data": {
            "image/png": "[encoded data removed]",
            "text/plain": [
              "<Figure size 432x288 with 1 Axes>"
            ]
          },
          "metadata": {
            "needs_background": "light"
          }
        }
      ]
    }
  ]
}