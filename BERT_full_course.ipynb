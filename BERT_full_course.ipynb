{
  "nbformat": 4,
  "nbformat_minor": 0,
  "metadata": {
    "colab": {
      "name": "BERT_full_course.ipynb",
      "provenance": [],
      "collapsed_sections": [],
      "authorship_tag": "ABX9TyMHz+4On1TGoVVcpAtc+0Th",
      "include_colab_link": true
    },
    "kernelspec": {
      "name": "python3",
      "display_name": "Python 3"
    },
    "language_info": {
      "name": "python"
    },
    "accelerator": "GPU",
    "widgets": {
      "application/vnd.jupyter.widget-state+json": {
        "5231f05e81cd4454b7f49a98ecb70960": {
          "model_module": "@jupyter-widgets/controls",
          "model_name": "HBoxModel",
          "state": {
            "_view_name": "HBoxView",
            "_dom_classes": [],
            "_model_name": "HBoxModel",
            "_view_module": "@jupyter-widgets/controls",
            "_model_module_version": "1.5.0",
            "_view_count": null,
            "_view_module_version": "1.5.0",
            "box_style": "",
            "layout": "IPY_MODEL_20b7e36136824c1e9bab5c3b6ad099ca",
            "_model_module": "@jupyter-widgets/controls",
            "children": [
              "IPY_MODEL_d7c41e9f02f44b21b552bff4f13ebf33",
              "IPY_MODEL_015e85d3790c40bbb524a4f74a7c2577"
            ]
          }
        },
        "20b7e36136824c1e9bab5c3b6ad099ca": {
          "model_module": "@jupyter-widgets/base",
          "model_name": "LayoutModel",
          "state": {
            "_view_name": "LayoutView",
            "grid_template_rows": null,
            "right": null,
            "justify_content": null,
            "_view_module": "@jupyter-widgets/base",
            "overflow": null,
            "_model_module_version": "1.2.0",
            "_view_count": null,
            "flex_flow": null,
            "width": null,
            "min_width": null,
            "border": null,
            "align_items": null,
            "bottom": null,
            "_model_module": "@jupyter-widgets/base",
            "top": null,
            "grid_column": null,
            "overflow_y": null,
            "overflow_x": null,
            "grid_auto_flow": null,
            "grid_area": null,
            "grid_template_columns": null,
            "flex": null,
            "_model_name": "LayoutModel",
            "justify_items": null,
            "grid_row": null,
            "max_height": null,
            "align_content": null,
            "visibility": null,
            "align_self": null,
            "height": null,
            "min_height": null,
            "padding": null,
            "grid_auto_rows": null,
            "grid_gap": null,
            "max_width": null,
            "order": null,
            "_view_module_version": "1.2.0",
            "grid_template_areas": null,
            "object_position": null,
            "object_fit": null,
            "grid_auto_columns": null,
            "margin": null,
            "display": null,
            "left": null
          }
        },
        "d7c41e9f02f44b21b552bff4f13ebf33": {
          "model_module": "@jupyter-widgets/controls",
          "model_name": "FloatProgressModel",
          "state": {
            "_view_name": "ProgressView",
            "style": "IPY_MODEL_0a651f0a6e604866b3c9cc9197a183da",
            "_dom_classes": [],
            "description": "Downloading: 100%",
            "_model_name": "FloatProgressModel",
            "bar_style": "success",
            "max": 231508,
            "_view_module": "@jupyter-widgets/controls",
            "_model_module_version": "1.5.0",
            "value": 231508,
            "_view_count": null,
            "_view_module_version": "1.5.0",
            "orientation": "horizontal",
            "min": 0,
            "description_tooltip": null,
            "_model_module": "@jupyter-widgets/controls",
            "layout": "IPY_MODEL_c5e9c64ac25f4bf0af87ffe2d4f635d7"
          }
        },
        "015e85d3790c40bbb524a4f74a7c2577": {
          "model_module": "@jupyter-widgets/controls",
          "model_name": "HTMLModel",
          "state": {
            "_view_name": "HTMLView",
            "style": "IPY_MODEL_821c2a982765424b9f0c120c1f41f186",
            "_dom_classes": [],
            "description": "",
            "_model_name": "HTMLModel",
            "placeholder": "​",
            "_view_module": "@jupyter-widgets/controls",
            "_model_module_version": "1.5.0",
            "value": " 232k/232k [00:00&lt;00:00, 2.14MB/s]",
            "_view_count": null,
            "_view_module_version": "1.5.0",
            "description_tooltip": null,
            "_model_module": "@jupyter-widgets/controls",
            "layout": "IPY_MODEL_b59044af83bf4a49a21d10ec72de0649"
          }
        },
        "0a651f0a6e604866b3c9cc9197a183da": {
          "model_module": "@jupyter-widgets/controls",
          "model_name": "ProgressStyleModel",
          "state": {
            "_view_name": "StyleView",
            "_model_name": "ProgressStyleModel",
            "description_width": "initial",
            "_view_module": "@jupyter-widgets/base",
            "_model_module_version": "1.5.0",
            "_view_count": null,
            "_view_module_version": "1.2.0",
            "bar_color": null,
            "_model_module": "@jupyter-widgets/controls"
          }
        },
        "c5e9c64ac25f4bf0af87ffe2d4f635d7": {
          "model_module": "@jupyter-widgets/base",
          "model_name": "LayoutModel",
          "state": {
            "_view_name": "LayoutView",
            "grid_template_rows": null,
            "right": null,
            "justify_content": null,
            "_view_module": "@jupyter-widgets/base",
            "overflow": null,
            "_model_module_version": "1.2.0",
            "_view_count": null,
            "flex_flow": null,
            "width": null,
            "min_width": null,
            "border": null,
            "align_items": null,
            "bottom": null,
            "_model_module": "@jupyter-widgets/base",
            "top": null,
            "grid_column": null,
            "overflow_y": null,
            "overflow_x": null,
            "grid_auto_flow": null,
            "grid_area": null,
            "grid_template_columns": null,
            "flex": null,
            "_model_name": "LayoutModel",
            "justify_items": null,
            "grid_row": null,
            "max_height": null,
            "align_content": null,
            "visibility": null,
            "align_self": null,
            "height": null,
            "min_height": null,
            "padding": null,
            "grid_auto_rows": null,
            "grid_gap": null,
            "max_width": null,
            "order": null,
            "_view_module_version": "1.2.0",
            "grid_template_areas": null,
            "object_position": null,
            "object_fit": null,
            "grid_auto_columns": null,
            "margin": null,
            "display": null,
            "left": null
          }
        },
        "821c2a982765424b9f0c120c1f41f186": {
          "model_module": "@jupyter-widgets/controls",
          "model_name": "DescriptionStyleModel",
          "state": {
            "_view_name": "StyleView",
            "_model_name": "DescriptionStyleModel",
            "description_width": "",
            "_view_module": "@jupyter-widgets/base",
            "_model_module_version": "1.5.0",
            "_view_count": null,
            "_view_module_version": "1.2.0",
            "_model_module": "@jupyter-widgets/controls"
          }
        },
        "b59044af83bf4a49a21d10ec72de0649": {
          "model_module": "@jupyter-widgets/base",
          "model_name": "LayoutModel",
          "state": {
            "_view_name": "LayoutView",
            "grid_template_rows": null,
            "right": null,
            "justify_content": null,
            "_view_module": "@jupyter-widgets/base",
            "overflow": null,
            "_model_module_version": "1.2.0",
            "_view_count": null,
            "flex_flow": null,
            "width": null,
            "min_width": null,
            "border": null,
            "align_items": null,
            "bottom": null,
            "_model_module": "@jupyter-widgets/base",
            "top": null,
            "grid_column": null,
            "overflow_y": null,
            "overflow_x": null,
            "grid_auto_flow": null,
            "grid_area": null,
            "grid_template_columns": null,
            "flex": null,
            "_model_name": "LayoutModel",
            "justify_items": null,
            "grid_row": null,
            "max_height": null,
            "align_content": null,
            "visibility": null,
            "align_self": null,
            "height": null,
            "min_height": null,
            "padding": null,
            "grid_auto_rows": null,
            "grid_gap": null,
            "max_width": null,
            "order": null,
            "_view_module_version": "1.2.0",
            "grid_template_areas": null,
            "object_position": null,
            "object_fit": null,
            "grid_auto_columns": null,
            "margin": null,
            "display": null,
            "left": null
          }
        },
        "787d7f4d095e4a8bb027924d433d6feb": {
          "model_module": "@jupyter-widgets/controls",
          "model_name": "HBoxModel",
          "state": {
            "_view_name": "HBoxView",
            "_dom_classes": [],
            "_model_name": "HBoxModel",
            "_view_module": "@jupyter-widgets/controls",
            "_model_module_version": "1.5.0",
            "_view_count": null,
            "_view_module_version": "1.5.0",
            "box_style": "",
            "layout": "IPY_MODEL_1ab7fce036e9421694bf477b9be9baee",
            "_model_module": "@jupyter-widgets/controls",
            "children": [
              "IPY_MODEL_f6159f617c0a46b38b2e79286b5abcb3",
              "IPY_MODEL_c3575967f3f946609301c2ca88f3b77c"
            ]
          }
        },
        "1ab7fce036e9421694bf477b9be9baee": {
          "model_module": "@jupyter-widgets/base",
          "model_name": "LayoutModel",
          "state": {
            "_view_name": "LayoutView",
            "grid_template_rows": null,
            "right": null,
            "justify_content": null,
            "_view_module": "@jupyter-widgets/base",
            "overflow": null,
            "_model_module_version": "1.2.0",
            "_view_count": null,
            "flex_flow": null,
            "width": null,
            "min_width": null,
            "border": null,
            "align_items": null,
            "bottom": null,
            "_model_module": "@jupyter-widgets/base",
            "top": null,
            "grid_column": null,
            "overflow_y": null,
            "overflow_x": null,
            "grid_auto_flow": null,
            "grid_area": null,
            "grid_template_columns": null,
            "flex": null,
            "_model_name": "LayoutModel",
            "justify_items": null,
            "grid_row": null,
            "max_height": null,
            "align_content": null,
            "visibility": null,
            "align_self": null,
            "height": null,
            "min_height": null,
            "padding": null,
            "grid_auto_rows": null,
            "grid_gap": null,
            "max_width": null,
            "order": null,
            "_view_module_version": "1.2.0",
            "grid_template_areas": null,
            "object_position": null,
            "object_fit": null,
            "grid_auto_columns": null,
            "margin": null,
            "display": null,
            "left": null
          }
        },
        "f6159f617c0a46b38b2e79286b5abcb3": {
          "model_module": "@jupyter-widgets/controls",
          "model_name": "FloatProgressModel",
          "state": {
            "_view_name": "ProgressView",
            "style": "IPY_MODEL_26ba6010bac2429cbc0c7cd4c1c8a536",
            "_dom_classes": [],
            "description": "Downloading: 100%",
            "_model_name": "FloatProgressModel",
            "bar_style": "success",
            "max": 570,
            "_view_module": "@jupyter-widgets/controls",
            "_model_module_version": "1.5.0",
            "value": 570,
            "_view_count": null,
            "_view_module_version": "1.5.0",
            "orientation": "horizontal",
            "min": 0,
            "description_tooltip": null,
            "_model_module": "@jupyter-widgets/controls",
            "layout": "IPY_MODEL_cfe696af9b38470dbfec486599feb470"
          }
        },
        "c3575967f3f946609301c2ca88f3b77c": {
          "model_module": "@jupyter-widgets/controls",
          "model_name": "HTMLModel",
          "state": {
            "_view_name": "HTMLView",
            "style": "IPY_MODEL_ebb8977cc44c44e1bd9adcfd16aa09d2",
            "_dom_classes": [],
            "description": "",
            "_model_name": "HTMLModel",
            "placeholder": "​",
            "_view_module": "@jupyter-widgets/controls",
            "_model_module_version": "1.5.0",
            "value": " 570/570 [00:12&lt;00:00, 44.2B/s]",
            "_view_count": null,
            "_view_module_version": "1.5.0",
            "description_tooltip": null,
            "_model_module": "@jupyter-widgets/controls",
            "layout": "IPY_MODEL_e089f6dc25494ec0a5579b31e50dae95"
          }
        },
        "26ba6010bac2429cbc0c7cd4c1c8a536": {
          "model_module": "@jupyter-widgets/controls",
          "model_name": "ProgressStyleModel",
          "state": {
            "_view_name": "StyleView",
            "_model_name": "ProgressStyleModel",
            "description_width": "initial",
            "_view_module": "@jupyter-widgets/base",
            "_model_module_version": "1.5.0",
            "_view_count": null,
            "_view_module_version": "1.2.0",
            "bar_color": null,
            "_model_module": "@jupyter-widgets/controls"
          }
        },
        "cfe696af9b38470dbfec486599feb470": {
          "model_module": "@jupyter-widgets/base",
          "model_name": "LayoutModel",
          "state": {
            "_view_name": "LayoutView",
            "grid_template_rows": null,
            "right": null,
            "justify_content": null,
            "_view_module": "@jupyter-widgets/base",
            "overflow": null,
            "_model_module_version": "1.2.0",
            "_view_count": null,
            "flex_flow": null,
            "width": null,
            "min_width": null,
            "border": null,
            "align_items": null,
            "bottom": null,
            "_model_module": "@jupyter-widgets/base",
            "top": null,
            "grid_column": null,
            "overflow_y": null,
            "overflow_x": null,
            "grid_auto_flow": null,
            "grid_area": null,
            "grid_template_columns": null,
            "flex": null,
            "_model_name": "LayoutModel",
            "justify_items": null,
            "grid_row": null,
            "max_height": null,
            "align_content": null,
            "visibility": null,
            "align_self": null,
            "height": null,
            "min_height": null,
            "padding": null,
            "grid_auto_rows": null,
            "grid_gap": null,
            "max_width": null,
            "order": null,
            "_view_module_version": "1.2.0",
            "grid_template_areas": null,
            "object_position": null,
            "object_fit": null,
            "grid_auto_columns": null,
            "margin": null,
            "display": null,
            "left": null
          }
        },
        "ebb8977cc44c44e1bd9adcfd16aa09d2": {
          "model_module": "@jupyter-widgets/controls",
          "model_name": "DescriptionStyleModel",
          "state": {
            "_view_name": "StyleView",
            "_model_name": "DescriptionStyleModel",
            "description_width": "",
            "_view_module": "@jupyter-widgets/base",
            "_model_module_version": "1.5.0",
            "_view_count": null,
            "_view_module_version": "1.2.0",
            "_model_module": "@jupyter-widgets/controls"
          }
        },
        "e089f6dc25494ec0a5579b31e50dae95": {
          "model_module": "@jupyter-widgets/base",
          "model_name": "LayoutModel",
          "state": {
            "_view_name": "LayoutView",
            "grid_template_rows": null,
            "right": null,
            "justify_content": null,
            "_view_module": "@jupyter-widgets/base",
            "overflow": null,
            "_model_module_version": "1.2.0",
            "_view_count": null,
            "flex_flow": null,
            "width": null,
            "min_width": null,
            "border": null,
            "align_items": null,
            "bottom": null,
            "_model_module": "@jupyter-widgets/base",
            "top": null,
            "grid_column": null,
            "overflow_y": null,
            "overflow_x": null,
            "grid_auto_flow": null,
            "grid_area": null,
            "grid_template_columns": null,
            "flex": null,
            "_model_name": "LayoutModel",
            "justify_items": null,
            "grid_row": null,
            "max_height": null,
            "align_content": null,
            "visibility": null,
            "align_self": null,
            "height": null,
            "min_height": null,
            "padding": null,
            "grid_auto_rows": null,
            "grid_gap": null,
            "max_width": null,
            "order": null,
            "_view_module_version": "1.2.0",
            "grid_template_areas": null,
            "object_position": null,
            "object_fit": null,
            "grid_auto_columns": null,
            "margin": null,
            "display": null,
            "left": null
          }
        },
        "05663733f15f4ef59c967f13329ba4d9": {
          "model_module": "@jupyter-widgets/controls",
          "model_name": "HBoxModel",
          "state": {
            "_view_name": "HBoxView",
            "_dom_classes": [],
            "_model_name": "HBoxModel",
            "_view_module": "@jupyter-widgets/controls",
            "_model_module_version": "1.5.0",
            "_view_count": null,
            "_view_module_version": "1.5.0",
            "box_style": "",
            "layout": "IPY_MODEL_0216b0a9789a4141877e9ef708e08701",
            "_model_module": "@jupyter-widgets/controls",
            "children": [
              "IPY_MODEL_7f6913b0f6cd43bb8b9c19c12feabb9d",
              "IPY_MODEL_3b0349e0ce364366b2e1932972467626"
            ]
          }
        },
        "0216b0a9789a4141877e9ef708e08701": {
          "model_module": "@jupyter-widgets/base",
          "model_name": "LayoutModel",
          "state": {
            "_view_name": "LayoutView",
            "grid_template_rows": null,
            "right": null,
            "justify_content": null,
            "_view_module": "@jupyter-widgets/base",
            "overflow": null,
            "_model_module_version": "1.2.0",
            "_view_count": null,
            "flex_flow": null,
            "width": null,
            "min_width": null,
            "border": null,
            "align_items": null,
            "bottom": null,
            "_model_module": "@jupyter-widgets/base",
            "top": null,
            "grid_column": null,
            "overflow_y": null,
            "overflow_x": null,
            "grid_auto_flow": null,
            "grid_area": null,
            "grid_template_columns": null,
            "flex": null,
            "_model_name": "LayoutModel",
            "justify_items": null,
            "grid_row": null,
            "max_height": null,
            "align_content": null,
            "visibility": null,
            "align_self": null,
            "height": null,
            "min_height": null,
            "padding": null,
            "grid_auto_rows": null,
            "grid_gap": null,
            "max_width": null,
            "order": null,
            "_view_module_version": "1.2.0",
            "grid_template_areas": null,
            "object_position": null,
            "object_fit": null,
            "grid_auto_columns": null,
            "margin": null,
            "display": null,
            "left": null
          }
        },
        "7f6913b0f6cd43bb8b9c19c12feabb9d": {
          "model_module": "@jupyter-widgets/controls",
          "model_name": "FloatProgressModel",
          "state": {
            "_view_name": "ProgressView",
            "style": "IPY_MODEL_64aaad455f964d4db954869d83033fe0",
            "_dom_classes": [],
            "description": "Downloading: 100%",
            "_model_name": "FloatProgressModel",
            "bar_style": "success",
            "max": 440473133,
            "_view_module": "@jupyter-widgets/controls",
            "_model_module_version": "1.5.0",
            "value": 440473133,
            "_view_count": null,
            "_view_module_version": "1.5.0",
            "orientation": "horizontal",
            "min": 0,
            "description_tooltip": null,
            "_model_module": "@jupyter-widgets/controls",
            "layout": "IPY_MODEL_c07f27cb3a464c67a0f1209aafa70b9b"
          }
        },
        "3b0349e0ce364366b2e1932972467626": {
          "model_module": "@jupyter-widgets/controls",
          "model_name": "HTMLModel",
          "state": {
            "_view_name": "HTMLView",
            "style": "IPY_MODEL_c104161f238a4b73ba5201ca68239ef0",
            "_dom_classes": [],
            "description": "",
            "_model_name": "HTMLModel",
            "placeholder": "​",
            "_view_module": "@jupyter-widgets/controls",
            "_model_module_version": "1.5.0",
            "value": " 440M/440M [00:12&lt;00:00, 34.8MB/s]",
            "_view_count": null,
            "_view_module_version": "1.5.0",
            "description_tooltip": null,
            "_model_module": "@jupyter-widgets/controls",
            "layout": "IPY_MODEL_e87a78e8fa164eb59b7d7a268ac9a84d"
          }
        },
        "64aaad455f964d4db954869d83033fe0": {
          "model_module": "@jupyter-widgets/controls",
          "model_name": "ProgressStyleModel",
          "state": {
            "_view_name": "StyleView",
            "_model_name": "ProgressStyleModel",
            "description_width": "initial",
            "_view_module": "@jupyter-widgets/base",
            "_model_module_version": "1.5.0",
            "_view_count": null,
            "_view_module_version": "1.2.0",
            "bar_color": null,
            "_model_module": "@jupyter-widgets/controls"
          }
        },
        "c07f27cb3a464c67a0f1209aafa70b9b": {
          "model_module": "@jupyter-widgets/base",
          "model_name": "LayoutModel",
          "state": {
            "_view_name": "LayoutView",
            "grid_template_rows": null,
            "right": null,
            "justify_content": null,
            "_view_module": "@jupyter-widgets/base",
            "overflow": null,
            "_model_module_version": "1.2.0",
            "_view_count": null,
            "flex_flow": null,
            "width": null,
            "min_width": null,
            "border": null,
            "align_items": null,
            "bottom": null,
            "_model_module": "@jupyter-widgets/base",
            "top": null,
            "grid_column": null,
            "overflow_y": null,
            "overflow_x": null,
            "grid_auto_flow": null,
            "grid_area": null,
            "grid_template_columns": null,
            "flex": null,
            "_model_name": "LayoutModel",
            "justify_items": null,
            "grid_row": null,
            "max_height": null,
            "align_content": null,
            "visibility": null,
            "align_self": null,
            "height": null,
            "min_height": null,
            "padding": null,
            "grid_auto_rows": null,
            "grid_gap": null,
            "max_width": null,
            "order": null,
            "_view_module_version": "1.2.0",
            "grid_template_areas": null,
            "object_position": null,
            "object_fit": null,
            "grid_auto_columns": null,
            "margin": null,
            "display": null,
            "left": null
          }
        },
        "c104161f238a4b73ba5201ca68239ef0": {
          "model_module": "@jupyter-widgets/controls",
          "model_name": "DescriptionStyleModel",
          "state": {
            "_view_name": "StyleView",
            "_model_name": "DescriptionStyleModel",
            "description_width": "",
            "_view_module": "@jupyter-widgets/base",
            "_model_module_version": "1.5.0",
            "_view_count": null,
            "_view_module_version": "1.2.0",
            "_model_module": "@jupyter-widgets/controls"
          }
        },
        "e87a78e8fa164eb59b7d7a268ac9a84d": {
          "model_module": "@jupyter-widgets/base",
          "model_name": "LayoutModel",
          "state": {
            "_view_name": "LayoutView",
            "grid_template_rows": null,
            "right": null,
            "justify_content": null,
            "_view_module": "@jupyter-widgets/base",
            "overflow": null,
            "_model_module_version": "1.2.0",
            "_view_count": null,
            "flex_flow": null,
            "width": null,
            "min_width": null,
            "border": null,
            "align_items": null,
            "bottom": null,
            "_model_module": "@jupyter-widgets/base",
            "top": null,
            "grid_column": null,
            "overflow_y": null,
            "overflow_x": null,
            "grid_auto_flow": null,
            "grid_area": null,
            "grid_template_columns": null,
            "flex": null,
            "_model_name": "LayoutModel",
            "justify_items": null,
            "grid_row": null,
            "max_height": null,
            "align_content": null,
            "visibility": null,
            "align_self": null,
            "height": null,
            "min_height": null,
            "padding": null,
            "grid_auto_rows": null,
            "grid_gap": null,
            "max_width": null,
            "order": null,
            "_view_module_version": "1.2.0",
            "grid_template_areas": null,
            "object_position": null,
            "object_fit": null,
            "grid_auto_columns": null,
            "margin": null,
            "display": null,
            "left": null
          }
        }
      }
    }
  },
  "cells": [
    {
      "cell_type": "markdown",
      "metadata": {
        "id": "view-in-github",
        "colab_type": "text"
      },
      "source": [
        "<a href=\"https://colab.research.google.com/github/shubheshswain91/Deep_Learning/blob/master/BERT_full_course.ipynb\" target=\"_parent\"><img src=\"https://colab.research.google.com/assets/colab-badge.svg\" alt=\"Open In Colab\"/></a>"
      ]
    },
    {
      "cell_type": "code",
      "metadata": {
        "colab": {
          "base_uri": "https://localhost:8080/"
        },
        "id": "7wRn-PY61kJ3",
        "outputId": "32517876-bcf4-4cee-e89a-34258a44784b"
      },
      "source": [
        "#Detect the GPU\n",
        "\n",
        "import tensorflow as tf\n",
        "\n",
        "# Get the GPU device name.\n",
        "device_name = tf.test.gpu_device_name()\n",
        "\n",
        "# The device name should look like the following:\n",
        "if device_name == '/device:GPU:0':\n",
        "    print('Found GPU at: {}'.format(device_name))\n",
        "else:\n",
        "    raise SystemError('GPU device not found')"
      ],
      "execution_count": 1,
      "outputs": [
        {
          "output_type": "stream",
          "text": [
            "Found GPU at: /device:GPU:0\n"
          ],
          "name": "stdout"
        }
      ]
    },
    {
      "cell_type": "code",
      "metadata": {
        "colab": {
          "base_uri": "https://localhost:8080/"
        },
        "id": "c_UlFd6zNsnJ",
        "outputId": "c5f8b5dd-4085-4d3d-eae0-2fa1d8e9c7d2"
      },
      "source": [
        "!pip install torch==1.4.0"
      ],
      "execution_count": 2,
      "outputs": [
        {
          "output_type": "stream",
          "text": [
            "Collecting torch==1.4.0\n",
            "  Downloading torch-1.4.0-cp37-cp37m-manylinux1_x86_64.whl (753.4 MB)\n",
            "\u001b[K     |████████████████████████████████| 753.4 MB 6.9 kB/s \n",
            "\u001b[?25hInstalling collected packages: torch\n",
            "  Attempting uninstall: torch\n",
            "    Found existing installation: torch 1.9.0+cu102\n",
            "    Uninstalling torch-1.9.0+cu102:\n",
            "      Successfully uninstalled torch-1.9.0+cu102\n",
            "\u001b[31mERROR: pip's dependency resolver does not currently take into account all the packages that are installed. This behaviour is the source of the following dependency conflicts.\n",
            "torchvision 0.10.0+cu102 requires torch==1.9.0, but you have torch 1.4.0 which is incompatible.\n",
            "torchtext 0.10.0 requires torch==1.9.0, but you have torch 1.4.0 which is incompatible.\u001b[0m\n",
            "Successfully installed torch-1.4.0\n"
          ],
          "name": "stdout"
        }
      ]
    },
    {
      "cell_type": "code",
      "metadata": {
        "colab": {
          "base_uri": "https://localhost:8080/"
        },
        "id": "bcKijkaa10TL",
        "outputId": "c02e20f1-d9fa-4aab-d868-3f865a01cf26"
      },
      "source": [
        "import torch\n",
        "\n",
        "# If there's a GPU available...\n",
        "if torch.cuda.is_available():    \n",
        "\n",
        "    # Tell PyTorch to use the GPU.    \n",
        "    device = torch.device(\"cuda\")\n",
        "\n",
        "    print('There are %d GPU(s) available.' % torch.cuda.device_count())\n",
        "\n",
        "    print('We will use the GPU:', torch.cuda.get_device_name(0))\n",
        "\n",
        "# If not...\n",
        "else:\n",
        "    print('No GPU available, using the CPU instead.')\n",
        "    device = torch.device(\"cpu\")"
      ],
      "execution_count": 3,
      "outputs": [
        {
          "output_type": "stream",
          "text": [
            "There are 1 GPU(s) available.\n",
            "We will use the GPU: Tesla T4\n"
          ],
          "name": "stdout"
        }
      ]
    },
    {
      "cell_type": "markdown",
      "metadata": {
        "id": "CTOCSMLm2EaV"
      },
      "source": [
        "We will use Hugging Face Librrary which will give us pytorch interface for working with BERT.  The library also includes pre-built modifications of these models suited to our specific task. We will use *BertForSequenceClassification*\n",
        "\n",
        "Note:-  We’ve selected the pytorch interface because it strikes a nice balance between the high-level APIs and tensorflow code. "
      ]
    },
    {
      "cell_type": "code",
      "metadata": {
        "colab": {
          "base_uri": "https://localhost:8080/"
        },
        "id": "38L5WuRI19DS",
        "outputId": "95bbeb78-5b40-4d1f-a865-f3270f7217f0"
      },
      "source": [
        "#!pip install transformers\n",
        " # due to error ( AttributeError: 'str' object has no attribute 'items')\n",
        "!pip install transformers==3.5.1"
      ],
      "execution_count": 4,
      "outputs": [
        {
          "output_type": "stream",
          "text": [
            "Requirement already satisfied: transformers==3.5.1 in /usr/local/lib/python3.7/dist-packages (3.5.1)\n",
            "Requirement already satisfied: regex!=2019.12.17 in /usr/local/lib/python3.7/dist-packages (from transformers==3.5.1) (2019.12.20)\n",
            "Requirement already satisfied: sacremoses in /usr/local/lib/python3.7/dist-packages (from transformers==3.5.1) (0.0.45)\n",
            "Requirement already satisfied: tokenizers==0.9.3 in /usr/local/lib/python3.7/dist-packages (from transformers==3.5.1) (0.9.3)\n",
            "Requirement already satisfied: tqdm>=4.27 in /usr/local/lib/python3.7/dist-packages (from transformers==3.5.1) (4.41.1)\n",
            "Requirement already satisfied: requests in /usr/local/lib/python3.7/dist-packages (from transformers==3.5.1) (2.23.0)\n",
            "Requirement already satisfied: packaging in /usr/local/lib/python3.7/dist-packages (from transformers==3.5.1) (21.0)\n",
            "Requirement already satisfied: sentencepiece==0.1.91 in /usr/local/lib/python3.7/dist-packages (from transformers==3.5.1) (0.1.91)\n",
            "Requirement already satisfied: numpy in /usr/local/lib/python3.7/dist-packages (from transformers==3.5.1) (1.19.5)\n",
            "Requirement already satisfied: filelock in /usr/local/lib/python3.7/dist-packages (from transformers==3.5.1) (3.0.12)\n",
            "Requirement already satisfied: protobuf in /usr/local/lib/python3.7/dist-packages (from transformers==3.5.1) (3.17.3)\n",
            "Requirement already satisfied: pyparsing>=2.0.2 in /usr/local/lib/python3.7/dist-packages (from packaging->transformers==3.5.1) (2.4.7)\n",
            "Requirement already satisfied: six>=1.9 in /usr/local/lib/python3.7/dist-packages (from protobuf->transformers==3.5.1) (1.15.0)\n",
            "Requirement already satisfied: chardet<4,>=3.0.2 in /usr/local/lib/python3.7/dist-packages (from requests->transformers==3.5.1) (3.0.4)\n",
            "Requirement already satisfied: certifi>=2017.4.17 in /usr/local/lib/python3.7/dist-packages (from requests->transformers==3.5.1) (2021.5.30)\n",
            "Requirement already satisfied: idna<3,>=2.5 in /usr/local/lib/python3.7/dist-packages (from requests->transformers==3.5.1) (2.10)\n",
            "Requirement already satisfied: urllib3!=1.25.0,!=1.25.1,<1.26,>=1.21.1 in /usr/local/lib/python3.7/dist-packages (from requests->transformers==3.5.1) (1.24.3)\n",
            "Requirement already satisfied: click in /usr/local/lib/python3.7/dist-packages (from sacremoses->transformers==3.5.1) (7.1.2)\n",
            "Requirement already satisfied: joblib in /usr/local/lib/python3.7/dist-packages (from sacremoses->transformers==3.5.1) (1.0.1)\n"
          ],
          "name": "stdout"
        }
      ]
    },
    {
      "cell_type": "markdown",
      "metadata": {
        "id": "MG3Pe7pE2ypL"
      },
      "source": [
        "**Lodaing CoLA dataset**\n",
        "\n",
        "We’ll use The Corpus of Linguistic Acceptability (CoLA) dataset for single sentence classification. It’s a set of sentences labeled as grammatically correct or incorrect. It was first published in May of 2018, and is one of the tests included in the “GLUE Benchmark” on which models like BERT are competing.\n"
      ]
    },
    {
      "cell_type": "code",
      "metadata": {
        "colab": {
          "base_uri": "https://localhost:8080/"
        },
        "id": "bPSGdt9T2tjb",
        "outputId": "7c91313f-a814-4392-f9e1-7cab5ef27688"
      },
      "source": [
        "!pip install wget"
      ],
      "execution_count": 5,
      "outputs": [
        {
          "output_type": "stream",
          "text": [
            "Requirement already satisfied: wget in /usr/local/lib/python3.7/dist-packages (3.2)\n"
          ],
          "name": "stdout"
        }
      ]
    },
    {
      "cell_type": "markdown",
      "metadata": {
        "id": "Cuvu0D6X3F9L"
      },
      "source": [
        "The dataset is hosted on GitHub in this repo: https://nyu-mll.github.io/CoLA/\n"
      ]
    },
    {
      "cell_type": "code",
      "metadata": {
        "colab": {
          "base_uri": "https://localhost:8080/"
        },
        "id": "nUdP_9_F3BCp",
        "outputId": "3e81dd6d-e7db-4822-94b3-5ede4cd84762"
      },
      "source": [
        "import wget\n",
        "import os\n",
        "\n",
        "print('Downloading dataset...')\n",
        "\n",
        "# The URL for the dataset zip file.\n",
        "url = 'https://nyu-mll.github.io/CoLA/cola_public_1.1.zip'\n",
        "\n",
        "# Download the file (if we haven't already)\n",
        "if not os.path.exists('./cola_public_1.1.zip'):\n",
        "    wget.download(url, './cola_public_1.1.zip')"
      ],
      "execution_count": 6,
      "outputs": [
        {
          "output_type": "stream",
          "text": [
            "Downloading dataset...\n"
          ],
          "name": "stdout"
        }
      ]
    },
    {
      "cell_type": "code",
      "metadata": {
        "id": "uSiOuQRH3I9y"
      },
      "source": [
        "# Unzip the dataset (if we haven't already)\n",
        "if not os.path.exists('./cola_public/'):\n",
        "    !unzip cola_public_1.1.zip"
      ],
      "execution_count": 7,
      "outputs": []
    },
    {
      "cell_type": "markdown",
      "metadata": {
        "id": "ut457_Jw3ZFq"
      },
      "source": [
        "**Parse**\n",
        "\n",
        "We can see from the file names that both tokenized and raw versions of the data are available.\n",
        "\n",
        "We can’t use the pre-tokenized version because, in order to apply the pre-trained BERT, we must use the tokenizer provided by the model. This is because (1) the model has a specific, fixed vocabulary and (2) the BERT tokenizer has a particular way of handling out-of-vocabulary words.\n",
        "\n",
        "We’ll use pandas to parse the “in-domain” training set and look at a few of its properties and data points."
      ]
    },
    {
      "cell_type": "code",
      "metadata": {
        "colab": {
          "base_uri": "https://localhost:8080/",
          "height": 391
        },
        "id": "b70KmTFj3W7R",
        "outputId": "c880a05a-85cb-472a-b97e-4c0138d47c7e"
      },
      "source": [
        "import pandas as pd\n",
        "\n",
        "# Load the dataset into a pandas dataframe.\n",
        "df = pd.read_csv(\"./cola_public/raw/in_domain_train.tsv\", delimiter='\\t', header=None, names=['sentence_source', 'label', 'label_notes', 'sentence'])\n",
        "\n",
        "# Report the number of sentences.\n",
        "print('Number of training sentences: {:,}\\n'.format(df.shape[0]))\n",
        "\n",
        "# Display 10 random rows from the data.\n",
        "df.sample(10)"
      ],
      "execution_count": 8,
      "outputs": [
        {
          "output_type": "stream",
          "text": [
            "Number of training sentences: 8,551\n",
            "\n"
          ],
          "name": "stdout"
        },
        {
          "output_type": "execute_result",
          "data": {
            "text/html": [
              "<div>\n",
              "<style scoped>\n",
              "    .dataframe tbody tr th:only-of-type {\n",
              "        vertical-align: middle;\n",
              "    }\n",
              "\n",
              "    .dataframe tbody tr th {\n",
              "        vertical-align: top;\n",
              "    }\n",
              "\n",
              "    .dataframe thead th {\n",
              "        text-align: right;\n",
              "    }\n",
              "</style>\n",
              "<table border=\"1\" class=\"dataframe\">\n",
              "  <thead>\n",
              "    <tr style=\"text-align: right;\">\n",
              "      <th></th>\n",
              "      <th>sentence_source</th>\n",
              "      <th>label</th>\n",
              "      <th>label_notes</th>\n",
              "      <th>sentence</th>\n",
              "    </tr>\n",
              "  </thead>\n",
              "  <tbody>\n",
              "    <tr>\n",
              "      <th>7788</th>\n",
              "      <td>ad03</td>\n",
              "      <td>1</td>\n",
              "      <td>NaN</td>\n",
              "      <td>Who kissed who?</td>\n",
              "    </tr>\n",
              "    <tr>\n",
              "      <th>2205</th>\n",
              "      <td>l-93</td>\n",
              "      <td>1</td>\n",
              "      <td>NaN</td>\n",
              "      <td>Tessa cut herself.</td>\n",
              "    </tr>\n",
              "    <tr>\n",
              "      <th>8549</th>\n",
              "      <td>ad03</td>\n",
              "      <td>1</td>\n",
              "      <td>NaN</td>\n",
              "      <td>I had the strangest feeling that I knew you.</td>\n",
              "    </tr>\n",
              "    <tr>\n",
              "      <th>6939</th>\n",
              "      <td>m_02</td>\n",
              "      <td>0</td>\n",
              "      <td>*</td>\n",
              "      <td>What she did was own all the land round here.</td>\n",
              "    </tr>\n",
              "    <tr>\n",
              "      <th>5358</th>\n",
              "      <td>b_73</td>\n",
              "      <td>1</td>\n",
              "      <td>NaN</td>\n",
              "      <td>John is taller than 6 feet.</td>\n",
              "    </tr>\n",
              "    <tr>\n",
              "      <th>8184</th>\n",
              "      <td>ad03</td>\n",
              "      <td>1</td>\n",
              "      <td>NaN</td>\n",
              "      <td>The librarian likes books.</td>\n",
              "    </tr>\n",
              "    <tr>\n",
              "      <th>2293</th>\n",
              "      <td>l-93</td>\n",
              "      <td>1</td>\n",
              "      <td>NaN</td>\n",
              "      <td>The witch turned him into a frog.</td>\n",
              "    </tr>\n",
              "    <tr>\n",
              "      <th>7539</th>\n",
              "      <td>sks13</td>\n",
              "      <td>1</td>\n",
              "      <td>NaN</td>\n",
              "      <td>Mary appreciates only John and herself.</td>\n",
              "    </tr>\n",
              "    <tr>\n",
              "      <th>6205</th>\n",
              "      <td>c_13</td>\n",
              "      <td>1</td>\n",
              "      <td>NaN</td>\n",
              "      <td>How was the plot discovered by the authorities?</td>\n",
              "    </tr>\n",
              "    <tr>\n",
              "      <th>7377</th>\n",
              "      <td>sks13</td>\n",
              "      <td>1</td>\n",
              "      <td>NaN</td>\n",
              "      <td>all the students left.</td>\n",
              "    </tr>\n",
              "  </tbody>\n",
              "</table>\n",
              "</div>"
            ],
            "text/plain": [
              "     sentence_source  ...                                         sentence\n",
              "7788            ad03  ...                                  Who kissed who?\n",
              "2205            l-93  ...                               Tessa cut herself.\n",
              "8549            ad03  ...     I had the strangest feeling that I knew you.\n",
              "6939            m_02  ...    What she did was own all the land round here.\n",
              "5358            b_73  ...                      John is taller than 6 feet.\n",
              "8184            ad03  ...                       The librarian likes books.\n",
              "2293            l-93  ...                The witch turned him into a frog.\n",
              "7539           sks13  ...          Mary appreciates only John and herself.\n",
              "6205            c_13  ...  How was the plot discovered by the authorities?\n",
              "7377           sks13  ...                           all the students left.\n",
              "\n",
              "[10 rows x 4 columns]"
            ]
          },
          "metadata": {
            "tags": []
          },
          "execution_count": 8
        }
      ]
    },
    {
      "cell_type": "markdown",
      "metadata": {
        "id": "TJgHqd4732Oz"
      },
      "source": [
        "The two properties we actually care about are the the sentence and its label, which is referred to as the “acceptibility judgment” (0=unacceptable, 1=acceptable)."
      ]
    },
    {
      "cell_type": "code",
      "metadata": {
        "colab": {
          "base_uri": "https://localhost:8080/",
          "height": 202
        },
        "id": "JvljIREo3wnL",
        "outputId": "17b58d24-12be-426c-96b9-cd177ac9be9f"
      },
      "source": [
        "df.loc[df.label == 0].sample(5)[['sentence', 'label']]"
      ],
      "execution_count": 9,
      "outputs": [
        {
          "output_type": "execute_result",
          "data": {
            "text/html": [
              "<div>\n",
              "<style scoped>\n",
              "    .dataframe tbody tr th:only-of-type {\n",
              "        vertical-align: middle;\n",
              "    }\n",
              "\n",
              "    .dataframe tbody tr th {\n",
              "        vertical-align: top;\n",
              "    }\n",
              "\n",
              "    .dataframe thead th {\n",
              "        text-align: right;\n",
              "    }\n",
              "</style>\n",
              "<table border=\"1\" class=\"dataframe\">\n",
              "  <thead>\n",
              "    <tr style=\"text-align: right;\">\n",
              "      <th></th>\n",
              "      <th>sentence</th>\n",
              "      <th>label</th>\n",
              "    </tr>\n",
              "  </thead>\n",
              "  <tbody>\n",
              "    <tr>\n",
              "      <th>206</th>\n",
              "      <td>The more articles he reads, the fewer people h...</td>\n",
              "      <td>0</td>\n",
              "    </tr>\n",
              "    <tr>\n",
              "      <th>4005</th>\n",
              "      <td>The monkeys kept forgot their lines.</td>\n",
              "      <td>0</td>\n",
              "    </tr>\n",
              "    <tr>\n",
              "      <th>1017</th>\n",
              "      <td>Guinevere has a single bone that is in every c...</td>\n",
              "      <td>0</td>\n",
              "    </tr>\n",
              "    <tr>\n",
              "      <th>885</th>\n",
              "      <td>You shouldn't play with rifles because play wi...</td>\n",
              "      <td>0</td>\n",
              "    </tr>\n",
              "    <tr>\n",
              "      <th>3956</th>\n",
              "      <td>John carried to the door.</td>\n",
              "      <td>0</td>\n",
              "    </tr>\n",
              "  </tbody>\n",
              "</table>\n",
              "</div>"
            ],
            "text/plain": [
              "                                               sentence  label\n",
              "206   The more articles he reads, the fewer people h...      0\n",
              "4005               The monkeys kept forgot their lines.      0\n",
              "1017  Guinevere has a single bone that is in every c...      0\n",
              "885   You shouldn't play with rifles because play wi...      0\n",
              "3956                          John carried to the door.      0"
            ]
          },
          "metadata": {
            "tags": []
          },
          "execution_count": 9
        }
      ]
    },
    {
      "cell_type": "markdown",
      "metadata": {
        "id": "E9FlfeJQ4JZy"
      },
      "source": [
        "Let’s extract the sentences and labels of our training set as numpy ndarrays."
      ]
    },
    {
      "cell_type": "code",
      "metadata": {
        "id": "SNXLS1OO37zq"
      },
      "source": [
        "# Get the lists of sentences and their labels.\n",
        "sentences = df.sentence.values\n",
        "labels = df.label.values"
      ],
      "execution_count": 10,
      "outputs": []
    },
    {
      "cell_type": "code",
      "metadata": {
        "colab": {
          "base_uri": "https://localhost:8080/"
        },
        "id": "L4BljCR940YC",
        "outputId": "603dd4bf-5978-4499-ee0a-d1ee3d4f1e03"
      },
      "source": [
        "sentences[0:3]"
      ],
      "execution_count": 11,
      "outputs": [
        {
          "output_type": "execute_result",
          "data": {
            "text/plain": [
              "array([\"Our friends won't buy this analysis, let alone the next one we propose.\",\n",
              "       \"One more pseudo generalization and I'm giving up.\",\n",
              "       \"One more pseudo generalization or I'm giving up.\"], dtype=object)"
            ]
          },
          "metadata": {
            "tags": []
          },
          "execution_count": 11
        }
      ]
    },
    {
      "cell_type": "markdown",
      "metadata": {
        "id": "LOs9EplI4Nb7"
      },
      "source": [
        "**3. Tokenization & Input Formatting**\n",
        "\n",
        "**3.1. BERT Tokenizer**\n",
        "\n",
        "To feed our text to BERT, it must be split into tokens, and then these tokens must be mapped to their index in the tokenizer vocabulary.\n",
        "\n",
        "The tokenization must be performed by the tokenizer included with BERT–the below cell will download this for us. We’ll be using the “uncased” version here.\n",
        "\n"
      ]
    },
    {
      "cell_type": "code",
      "metadata": {
        "colab": {
          "base_uri": "https://localhost:8080/",
          "height": 84,
          "referenced_widgets": [
            "5231f05e81cd4454b7f49a98ecb70960",
            "20b7e36136824c1e9bab5c3b6ad099ca",
            "d7c41e9f02f44b21b552bff4f13ebf33",
            "015e85d3790c40bbb524a4f74a7c2577",
            "0a651f0a6e604866b3c9cc9197a183da",
            "c5e9c64ac25f4bf0af87ffe2d4f635d7",
            "821c2a982765424b9f0c120c1f41f186",
            "b59044af83bf4a49a21d10ec72de0649"
          ]
        },
        "id": "j8DsByJM4LlB",
        "outputId": "e793897f-33d1-4aa0-cba7-83e146e91681"
      },
      "source": [
        "from transformers import BertTokenizer\n",
        "\n",
        "# Load the BERT tokenizer.\n",
        "print('Loading BERT tokenizer...')\n",
        "tokenizer = BertTokenizer.from_pretrained('bert-base-uncased', do_lower_case=True)"
      ],
      "execution_count": 12,
      "outputs": [
        {
          "output_type": "stream",
          "text": [
            "Loading BERT tokenizer...\n"
          ],
          "name": "stdout"
        },
        {
          "output_type": "display_data",
          "data": {
            "application/vnd.jupyter.widget-view+json": {
              "model_id": "5231f05e81cd4454b7f49a98ecb70960",
              "version_minor": 0,
              "version_major": 2
            },
            "text/plain": [
              "HBox(children=(FloatProgress(value=0.0, description='Downloading', max=231508.0, style=ProgressStyle(descripti…"
            ]
          },
          "metadata": {
            "tags": []
          }
        },
        {
          "output_type": "stream",
          "text": [
            "\n"
          ],
          "name": "stdout"
        }
      ]
    },
    {
      "cell_type": "markdown",
      "metadata": {
        "id": "DLX8moxp5BjL"
      },
      "source": [
        "Let’s apply the tokenizer to one sentence just to see the output."
      ]
    },
    {
      "cell_type": "code",
      "metadata": {
        "colab": {
          "base_uri": "https://localhost:8080/"
        },
        "id": "0nA8M6O94jCh",
        "outputId": "efd11def-ec5c-43e4-9992-13daa6ccba1b"
      },
      "source": [
        "# Print the original sentence.\n",
        "print(' Original: ', sentences[0])\n",
        "\n",
        "# Print the sentence split into tokens.\n",
        "print('Tokenized: ', tokenizer.tokenize(sentences[0]))\n",
        "\n",
        "# Print the sentence mapped to token ids.\n",
        "print('Token IDs: ', tokenizer.convert_tokens_to_ids(tokenizer.tokenize(sentences[0])))"
      ],
      "execution_count": 13,
      "outputs": [
        {
          "output_type": "stream",
          "text": [
            " Original:  Our friends won't buy this analysis, let alone the next one we propose.\n",
            "Tokenized:  ['our', 'friends', 'won', \"'\", 't', 'buy', 'this', 'analysis', ',', 'let', 'alone', 'the', 'next', 'one', 'we', 'propose', '.']\n",
            "Token IDs:  [2256, 2814, 2180, 1005, 1056, 4965, 2023, 4106, 1010, 2292, 2894, 1996, 2279, 2028, 2057, 16599, 1012]\n"
          ],
          "name": "stdout"
        }
      ]
    },
    {
      "cell_type": "markdown",
      "metadata": {
        "id": "3Hmft2647Nzk"
      },
      "source": [
        "When we actually convert all of our sentences, we’ll use the *tokenize.encode *function to handle both steps, rather than calling tokenize and *convert_tokens_to_ids* separately."
      ]
    },
    {
      "cell_type": "markdown",
      "metadata": {
        "id": "qCd6iAHy7V86"
      },
      "source": [
        "*3.2. Required Formatting*\n",
        "\n",
        "We are required to:\n",
        "\n",
        "\n",
        "\n",
        "1.   Add special tokens to the start and end of each sentence.\n",
        "2.   Pad & truncate all sentences to a single constant length.\n",
        "3.   Explicitly differentiate real tokens from padding tokens with the “attention mask”.\n",
        "\n"
      ]
    },
    {
      "cell_type": "markdown",
      "metadata": {
        "id": "KXk3qX_H750c"
      },
      "source": [
        "[SEP]\n",
        "\n",
        "At the end of every sentence, we need to append the special [SEP] token.\n",
        "\n",
        "This token is an artifact of two-sentence tasks, where BERT is given two separate sentences and asked to determine something (e.g., can the answer to the question in sentence A be found in sentence B?)."
      ]
    },
    {
      "cell_type": "markdown",
      "metadata": {
        "id": "vZnjDXKq8AwC"
      },
      "source": [
        "[CLS]\n",
        "\n",
        "For classification tasks, we must prepend the special [CLS] token to the beginning of every sentence.\n",
        "\n",
        "This token has special significance. BERT consists of 12 Transformer layers. Each transformer takes in a list of token embeddings, and produces the same number of embeddings on the output."
      ]
    },
    {
      "cell_type": "markdown",
      "metadata": {
        "id": "7_NODIJP8ZbC"
      },
      "source": [
        "On the output of the final (12th) transformer, only the first embedding (corresponding to the [CLS] token) is used by the classifier.\n",
        "\n",
        "\n",
        "“The first token of every sequence is always a special classification token ([CLS]). The final hidden state corresponding to this token is used as the aggregate sequence representation for classification tasks.” (from the BERT paper)![CLS_token_500x606.png](data:image/png;base64,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)"
      ]
    },
    {
      "cell_type": "markdown",
      "metadata": {
        "id": "7JsYODiE8_aE"
      },
      "source": [
        "BERT is trained to only use this [CLS] token for classification, we know that the model has been motivated to encode everything it needs for the classification step into that single 768-value embedding vector."
      ]
    },
    {
      "cell_type": "markdown",
      "metadata": {
        "id": "rBJdp03O9Bey"
      },
      "source": [
        "**Sentence Length & Attention Mask**\n",
        "\n",
        "The sentences in our dataset obviously have varying lengths, so how does BERT handle this?\n",
        "\n",
        "BERT has two constraints:\n",
        "\n",
        "1.   All sentences must be padded or truncated to a single, fixed length.\n",
        "2.   The maximum sentence length is 512 tokens.\n",
        "\n",
        "Padding is done with a special [PAD] token, which is at index 0 in the BERT vocabulary. The below illustration demonstrates padding out to a “MAX_LEN” of 8 tokens.\n",
        "![padding_and_mask.png](data:image/png;base64,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)"
      ]
    },
    {
      "cell_type": "markdown",
      "metadata": {
        "id": "YkAvj0Ow9fTj"
      },
      "source": [
        "The “Attention Mask” is simply an array of 1s and 0s indicating which tokens are padding and which aren’t. \n",
        "This mask tells the “Self-Attention” mechanism in BERT not to incorporate these PAD tokens into its interpretation of the sentence.\n"
      ]
    },
    {
      "cell_type": "markdown",
      "metadata": {
        "id": "Zd8qxSud9qb7"
      },
      "source": [
        "**3.3. Tokenize Dataset**\n",
        "\n",
        "The transformers library provides a helpful encode function which will handle most of the parsing and data prep steps for us.\n",
        "\n",
        "Before we are ready to encode our text, though, we need to decide on a maximum sentence length for padding / truncating to.\n",
        "\n",
        "The below cell will perform one tokenization pass of the dataset in order to measure the maximum sentence length."
      ]
    },
    {
      "cell_type": "code",
      "metadata": {
        "colab": {
          "base_uri": "https://localhost:8080/"
        },
        "id": "R0a1Tu-X8ANK",
        "outputId": "f35bd16f-81e5-4b4a-c4be-c9dbad740d63"
      },
      "source": [
        "max_len = 0\n",
        "\n",
        "# For every sentence...\n",
        "for sent in sentences:\n",
        "\n",
        "    # Tokenize the text and add `[CLS]` and `[SEP]` tokens.\n",
        "    input_ids = tokenizer.encode(sent, add_special_tokens=True)\n",
        "\n",
        "    # Update the maximum sentence length.\n",
        "    max_len = max(max_len, len(input_ids))\n",
        "\n",
        "print('Max sentence length: ', max_len)"
      ],
      "execution_count": 14,
      "outputs": [
        {
          "output_type": "stream",
          "text": [
            "Max sentence length:  47\n"
          ],
          "name": "stdout"
        }
      ]
    },
    {
      "cell_type": "markdown",
      "metadata": {
        "id": "H3ZHvat697OS"
      },
      "source": [
        "Just in case there are some longer test sentences, I’ll set the maximum length to 64.\n",
        "\n",
        "Now we’re ready to perform the real tokenization.\n",
        "\n",
        "The *tokenizer.encode_plus function* combines multiple steps for us:\n",
        "\n",
        "\n",
        "1.   Split the sentence into tokens.\n",
        "2.   Add the special [CLS] and [SEP] tokens.\n",
        "3.   Map the tokens to their IDs.\n",
        "4.   Pad or truncate all sentences to the same length.\n",
        "5.   Create the attention masks which explicitly differentiate real tokens from  [PAD] tokens.\n",
        "\n",
        "The first four features are in tokenizer.encode, but I’m using tokenizer.encode_plus to get the fifth item (attention masks).\n",
        "\n"
      ]
    },
    {
      "cell_type": "code",
      "metadata": {
        "colab": {
          "base_uri": "https://localhost:8080/"
        },
        "id": "WEAEckZD5E6x",
        "outputId": "cdaf2808-d09c-4459-cbfd-a6354aff1db2"
      },
      "source": [
        "# Tokenize all of the sentences and map the tokens to thier word IDs.\n",
        "input_ids = []\n",
        "attention_masks = []\n",
        "\n",
        "# For every sentence...\n",
        "for sent in sentences:\n",
        "    # `encode_plus` will:\n",
        "    #   (1) Tokenize the sentence.\n",
        "    #   (2) Prepend the `[CLS]` token to the start.\n",
        "    #   (3) Append the `[SEP]` token to the end.\n",
        "    #   (4) Map tokens to their IDs.\n",
        "    #   (5) Pad or truncate the sentence to `max_length`\n",
        "    #   (6) Create attention masks for [PAD] tokens.\n",
        "    encoded_dict = tokenizer.encode_plus(\n",
        "                        sent,                      # Sentence to encode.\n",
        "                        add_special_tokens = True, # Add '[CLS]' and '[SEP]'\n",
        "                        max_length = 64,           # Pad & truncate all sentences.\n",
        "                        pad_to_max_length = True,\n",
        "                        return_attention_mask = True,   # Construct attn. masks.\n",
        "                        return_tensors = 'pt',     # Return pytorch tensors.\n",
        "                   )\n",
        "    \n",
        "    # Add the encoded sentence to the list.    \n",
        "    input_ids.append(encoded_dict['input_ids'])\n",
        "    \n",
        "    # And its attention mask (simply differentiates padding from non-padding).\n",
        "    attention_masks.append(encoded_dict['attention_mask'])\n",
        "\n",
        "# Convert the lists into tensors.\n",
        "input_ids = torch.cat(input_ids, dim=0)\n",
        "attention_masks = torch.cat(attention_masks, dim=0)\n",
        "labels = torch.tensor(labels)\n",
        "\n",
        "# Print sentence 0, now as a list of IDs.\n",
        "print('Original: ', sentences[0])\n",
        "print('Token IDs:', input_ids[0])"
      ],
      "execution_count": 15,
      "outputs": [
        {
          "output_type": "stream",
          "text": [
            "Truncation was not explicitly activated but `max_length` is provided a specific value, please use `truncation=True` to explicitly truncate examples to max length. Defaulting to 'longest_first' truncation strategy. If you encode pairs of sequences (GLUE-style) with the tokenizer you can select this strategy more precisely by providing a specific strategy to `truncation`.\n",
            "/usr/local/lib/python3.7/dist-packages/transformers/tokenization_utils_base.py:2022: FutureWarning: The `pad_to_max_length` argument is deprecated and will be removed in a future version, use `padding=True` or `padding='longest'` to pad to the longest sequence in the batch, or use `padding='max_length'` to pad to a max length. In this case, you can give a specific length with `max_length` (e.g. `max_length=45`) or leave max_length to None to pad to the maximal input size of the model (e.g. 512 for Bert).\n",
            "  FutureWarning,\n"
          ],
          "name": "stderr"
        },
        {
          "output_type": "stream",
          "text": [
            "Original:  Our friends won't buy this analysis, let alone the next one we propose.\n",
            "Token IDs: tensor([  101,  2256,  2814,  2180,  1005,  1056,  4965,  2023,  4106,  1010,\n",
            "         2292,  2894,  1996,  2279,  2028,  2057, 16599,  1012,   102,     0,\n",
            "            0,     0,     0,     0,     0,     0,     0,     0,     0,     0,\n",
            "            0,     0,     0,     0,     0,     0,     0,     0,     0,     0,\n",
            "            0,     0,     0,     0,     0,     0,     0,     0,     0,     0,\n",
            "            0,     0,     0,     0,     0,     0,     0,     0,     0,     0,\n",
            "            0,     0,     0,     0])\n"
          ],
          "name": "stdout"
        }
      ]
    },
    {
      "cell_type": "markdown",
      "metadata": {
        "id": "0Z7n2HCT-wfC"
      },
      "source": [
        "**3.4. Training & Validation Split**\n",
        "\n",
        "Divide up our training set to use 90% for training and 10% for validation."
      ]
    },
    {
      "cell_type": "code",
      "metadata": {
        "colab": {
          "base_uri": "https://localhost:8080/"
        },
        "id": "BhJTD0YW-cXp",
        "outputId": "5b2c5e41-a266-4c41-dd4b-1b2ceb2cb9b2"
      },
      "source": [
        "from torch.utils.data import TensorDataset, random_split\n",
        "\n",
        "# Combine the training inputs into a TensorDataset.\n",
        "dataset = TensorDataset(input_ids, attention_masks, labels)\n",
        "\n",
        "# Create a 90-10 train-validation split.\n",
        "\n",
        "# Calculate the number of samples to include in each set.\n",
        "train_size = int(0.9 * len(dataset))\n",
        "val_size = len(dataset) - train_size\n",
        "\n",
        "# Divide the dataset by randomly selecting samples.\n",
        "train_dataset, val_dataset = random_split(dataset, [train_size, val_size])\n",
        "\n",
        "print('{:>5,} training samples'.format(train_size))\n",
        "print('{:>5,} validation samples'.format(val_size))"
      ],
      "execution_count": 16,
      "outputs": [
        {
          "output_type": "stream",
          "text": [
            "7,695 training samples\n",
            "  856 validation samples\n"
          ],
          "name": "stdout"
        }
      ]
    },
    {
      "cell_type": "markdown",
      "metadata": {
        "id": "-qtEsywG_C2S"
      },
      "source": [
        "We’ll also create an iterator for our dataset using the torch DataLoader class. This helps save on memory during training because, unlike a for loop, with an iterator the entire dataset does not need to be loaded into memory."
      ]
    },
    {
      "cell_type": "code",
      "metadata": {
        "id": "Ax71TE-P-3xR"
      },
      "source": [
        "from torch.utils.data import DataLoader, RandomSampler, SequentialSampler\n",
        "\n",
        "# The DataLoader needs to know our batch size for training, so we specify it \n",
        "# here. For fine-tuning BERT on a specific task, the authors recommend a batch \n",
        "# size of 16 or 32.\n",
        "batch_size = 32\n",
        "\n",
        "# Create the DataLoaders for our training and validation sets.\n",
        "# We'll take training samples in random order. \n",
        "train_dataloader = DataLoader(\n",
        "            train_dataset,  # The training samples.\n",
        "            sampler = RandomSampler(train_dataset), # Select batches randomly\n",
        "            batch_size = batch_size # Trains with this batch size.\n",
        "        )\n",
        "\n",
        "# For validation the order doesn't matter, so we'll just read them sequentially.\n",
        "validation_dataloader = DataLoader(\n",
        "            val_dataset, # The validation samples.\n",
        "            sampler = SequentialSampler(val_dataset), # Pull out batches sequentially.\n",
        "            batch_size = batch_size # Evaluate with this batch size.\n",
        "        )"
      ],
      "execution_count": 17,
      "outputs": []
    },
    {
      "cell_type": "markdown",
      "metadata": {
        "id": "Lm4zQa2d_NAy"
      },
      "source": [
        "**4. Train Our Classification Model**\n",
        "\n",
        "Now that our input data is properly formatted, it’s time to fine tune the BERT model.\n",
        "\n",
        "**4.1. BertForSequenceClassification**\n",
        "\n",
        "For this task, we first want to modify the pre-trained BERT model to give outputs for classification, and then we want to continue training the model on our dataset until that the entire model, end-to-end, is well-suited for our task.\n",
        "\n",
        "Thankfully, the huggingface pytorch implementation includes a set of interfaces designed for a variety of NLP tasks. Though these interfaces are all built on top of a trained BERT model, each has different top layers and output types designed to accomodate their specific NLP task.\n",
        "\n",
        "Here is the current list of classes provided for fine-tuning:\n",
        "\n",
        "*   BertModel\n",
        "*   BertForPreTraining\n",
        "*   BertForMaskedLM\n",
        "*   BertForNextSentencePrediction\n",
        "*   **BertForSequenceClassification** - The one we’ll use.\n",
        "*   BertForTokenClassification\n",
        "*   BertForQuestionAnswering\n",
        "\n",
        "For more details: [link text](https://huggingface.co/transformers/v2.2.0/model_doc/bert.html)\n",
        "\n",
        "We’ll be using BertForSequenceClassification. This is the normal BERT model with an added single linear layer on top for classification that we will use as a sentence classifier. As we feed input data, the entire pre-trained BERT model and the additional untrained classification layer is trained on our specific task.\n",
        "\n",
        "OK, let’s load BERT! There are a few different pre-trained BERT models available. “bert-base-uncased” means the version that has only lowercase letters (“uncased”) and is the smaller version of the two (“base” vs “large”).\n",
        "\n",
        "\n",
        "\n",
        "The documentation for from_pretrained can be found here [here](https://huggingface.co/transformers/v2.2.0/main_classes/model.html#transformers.PreTrainedModel.from_pretrained), with the additional parameters defined [here](https://huggingface.co/transformers/v2.2.0/main_classes/configuration.html#transformers.PretrainedConfig).\n",
        "\n"
      ]
    },
    {
      "cell_type": "code",
      "metadata": {
        "colab": {
          "base_uri": "https://localhost:8080/",
          "height": 1000,
          "referenced_widgets": [
            "787d7f4d095e4a8bb027924d433d6feb",
            "1ab7fce036e9421694bf477b9be9baee",
            "f6159f617c0a46b38b2e79286b5abcb3",
            "c3575967f3f946609301c2ca88f3b77c",
            "26ba6010bac2429cbc0c7cd4c1c8a536",
            "cfe696af9b38470dbfec486599feb470",
            "ebb8977cc44c44e1bd9adcfd16aa09d2",
            "e089f6dc25494ec0a5579b31e50dae95",
            "05663733f15f4ef59c967f13329ba4d9",
            "0216b0a9789a4141877e9ef708e08701",
            "7f6913b0f6cd43bb8b9c19c12feabb9d",
            "3b0349e0ce364366b2e1932972467626",
            "64aaad455f964d4db954869d83033fe0",
            "c07f27cb3a464c67a0f1209aafa70b9b",
            "c104161f238a4b73ba5201ca68239ef0",
            "e87a78e8fa164eb59b7d7a268ac9a84d"
          ]
        },
        "id": "W2kmJFLC_FsA",
        "outputId": "08a1a516-6bed-4b53-9d0d-2aaaa15c8a23"
      },
      "source": [
        "from transformers import BertForSequenceClassification, AdamW, BertConfig\n",
        "\n",
        "# Load BertForSequenceClassification, the pretrained BERT model with a single \n",
        "# linear classification layer on top. \n",
        "model = BertForSequenceClassification.from_pretrained(\n",
        "    \"bert-base-uncased\", # Use the 12-layer BERT model, with an uncased vocab.\n",
        "    num_labels = 2, # The number of output labels--2 for binary classification.\n",
        "                    # You can increase this for multi-class tasks.   \n",
        "    output_attentions = False, # Whether the model returns attentions weights.\n",
        "    output_hidden_states = False, # Whether the model returns all hidden-states.\n",
        ")\n",
        "\n",
        "# Tell pytorch to run this model on the GPU.\n",
        "model.cuda()"
      ],
      "execution_count": 18,
      "outputs": [
        {
          "output_type": "display_data",
          "data": {
            "application/vnd.jupyter.widget-view+json": {
              "model_id": "787d7f4d095e4a8bb027924d433d6feb",
              "version_minor": 0,
              "version_major": 2
            },
            "text/plain": [
              "HBox(children=(FloatProgress(value=0.0, description='Downloading', max=570.0, style=ProgressStyle(description_…"
            ]
          },
          "metadata": {
            "tags": []
          }
        },
        {
          "output_type": "stream",
          "text": [
            "\n"
          ],
          "name": "stdout"
        },
        {
          "output_type": "display_data",
          "data": {
            "application/vnd.jupyter.widget-view+json": {
              "model_id": "05663733f15f4ef59c967f13329ba4d9",
              "version_minor": 0,
              "version_major": 2
            },
            "text/plain": [
              "HBox(children=(FloatProgress(value=0.0, description='Downloading', max=440473133.0, style=ProgressStyle(descri…"
            ]
          },
          "metadata": {
            "tags": []
          }
        },
        {
          "output_type": "stream",
          "text": [
            "\n"
          ],
          "name": "stdout"
        },
        {
          "output_type": "stream",
          "text": [
            "Some weights of the model checkpoint at bert-base-uncased were not used when initializing BertForSequenceClassification: ['cls.predictions.bias', 'cls.predictions.transform.dense.weight', 'cls.predictions.transform.dense.bias', 'cls.predictions.decoder.weight', 'cls.seq_relationship.weight', 'cls.seq_relationship.bias', 'cls.predictions.transform.LayerNorm.weight', 'cls.predictions.transform.LayerNorm.bias']\n",
            "- This IS expected if you are initializing BertForSequenceClassification from the checkpoint of a model trained on another task or with another architecture (e.g. initializing a BertForSequenceClassification model from a BertForPreTraining model).\n",
            "- This IS NOT expected if you are initializing BertForSequenceClassification from the checkpoint of a model that you expect to be exactly identical (initializing a BertForSequenceClassification model from a BertForSequenceClassification model).\n",
            "Some weights of BertForSequenceClassification were not initialized from the model checkpoint at bert-base-uncased and are newly initialized: ['classifier.weight', 'classifier.bias']\n",
            "You should probably TRAIN this model on a down-stream task to be able to use it for predictions and inference.\n"
          ],
          "name": "stderr"
        },
        {
          "output_type": "execute_result",
          "data": {
            "text/plain": [
              "BertForSequenceClassification(\n",
              "  (bert): BertModel(\n",
              "    (embeddings): BertEmbeddings(\n",
              "      (word_embeddings): Embedding(30522, 768, padding_idx=0)\n",
              "      (position_embeddings): Embedding(512, 768)\n",
              "      (token_type_embeddings): Embedding(2, 768)\n",
              "      (LayerNorm): LayerNorm((768,), eps=1e-12, elementwise_affine=True)\n",
              "      (dropout): Dropout(p=0.1, inplace=False)\n",
              "    )\n",
              "    (encoder): BertEncoder(\n",
              "      (layer): ModuleList(\n",
              "        (0): BertLayer(\n",
              "          (attention): BertAttention(\n",
              "            (self): BertSelfAttention(\n",
              "              (query): Linear(in_features=768, out_features=768, bias=True)\n",
              "              (key): Linear(in_features=768, out_features=768, bias=True)\n",
              "              (value): Linear(in_features=768, out_features=768, bias=True)\n",
              "              (dropout): Dropout(p=0.1, inplace=False)\n",
              "            )\n",
              "            (output): BertSelfOutput(\n",
              "              (dense): Linear(in_features=768, out_features=768, bias=True)\n",
              "              (LayerNorm): LayerNorm((768,), eps=1e-12, elementwise_affine=True)\n",
              "              (dropout): Dropout(p=0.1, inplace=False)\n",
              "            )\n",
              "          )\n",
              "          (intermediate): BertIntermediate(\n",
              "            (dense): Linear(in_features=768, out_features=3072, bias=True)\n",
              "          )\n",
              "          (output): BertOutput(\n",
              "            (dense): Linear(in_features=3072, out_features=768, bias=True)\n",
              "            (LayerNorm): LayerNorm((768,), eps=1e-12, elementwise_affine=True)\n",
              "            (dropout): Dropout(p=0.1, inplace=False)\n",
              "          )\n",
              "        )\n",
              "        (1): BertLayer(\n",
              "          (attention): BertAttention(\n",
              "            (self): BertSelfAttention(\n",
              "              (query): Linear(in_features=768, out_features=768, bias=True)\n",
              "              (key): Linear(in_features=768, out_features=768, bias=True)\n",
              "              (value): Linear(in_features=768, out_features=768, bias=True)\n",
              "              (dropout): Dropout(p=0.1, inplace=False)\n",
              "            )\n",
              "            (output): BertSelfOutput(\n",
              "              (dense): Linear(in_features=768, out_features=768, bias=True)\n",
              "              (LayerNorm): LayerNorm((768,), eps=1e-12, elementwise_affine=True)\n",
              "              (dropout): Dropout(p=0.1, inplace=False)\n",
              "            )\n",
              "          )\n",
              "          (intermediate): BertIntermediate(\n",
              "            (dense): Linear(in_features=768, out_features=3072, bias=True)\n",
              "          )\n",
              "          (output): BertOutput(\n",
              "            (dense): Linear(in_features=3072, out_features=768, bias=True)\n",
              "            (LayerNorm): LayerNorm((768,), eps=1e-12, elementwise_affine=True)\n",
              "            (dropout): Dropout(p=0.1, inplace=False)\n",
              "          )\n",
              "        )\n",
              "        (2): BertLayer(\n",
              "          (attention): BertAttention(\n",
              "            (self): BertSelfAttention(\n",
              "              (query): Linear(in_features=768, out_features=768, bias=True)\n",
              "              (key): Linear(in_features=768, out_features=768, bias=True)\n",
              "              (value): Linear(in_features=768, out_features=768, bias=True)\n",
              "              (dropout): Dropout(p=0.1, inplace=False)\n",
              "            )\n",
              "            (output): BertSelfOutput(\n",
              "              (dense): Linear(in_features=768, out_features=768, bias=True)\n",
              "              (LayerNorm): LayerNorm((768,), eps=1e-12, elementwise_affine=True)\n",
              "              (dropout): Dropout(p=0.1, inplace=False)\n",
              "            )\n",
              "          )\n",
              "          (intermediate): BertIntermediate(\n",
              "            (dense): Linear(in_features=768, out_features=3072, bias=True)\n",
              "          )\n",
              "          (output): BertOutput(\n",
              "            (dense): Linear(in_features=3072, out_features=768, bias=True)\n",
              "            (LayerNorm): LayerNorm((768,), eps=1e-12, elementwise_affine=True)\n",
              "            (dropout): Dropout(p=0.1, inplace=False)\n",
              "          )\n",
              "        )\n",
              "        (3): BertLayer(\n",
              "          (attention): BertAttention(\n",
              "            (self): BertSelfAttention(\n",
              "              (query): Linear(in_features=768, out_features=768, bias=True)\n",
              "              (key): Linear(in_features=768, out_features=768, bias=True)\n",
              "              (value): Linear(in_features=768, out_features=768, bias=True)\n",
              "              (dropout): Dropout(p=0.1, inplace=False)\n",
              "            )\n",
              "            (output): BertSelfOutput(\n",
              "              (dense): Linear(in_features=768, out_features=768, bias=True)\n",
              "              (LayerNorm): LayerNorm((768,), eps=1e-12, elementwise_affine=True)\n",
              "              (dropout): Dropout(p=0.1, inplace=False)\n",
              "            )\n",
              "          )\n",
              "          (intermediate): BertIntermediate(\n",
              "            (dense): Linear(in_features=768, out_features=3072, bias=True)\n",
              "          )\n",
              "          (output): BertOutput(\n",
              "            (dense): Linear(in_features=3072, out_features=768, bias=True)\n",
              "            (LayerNorm): LayerNorm((768,), eps=1e-12, elementwise_affine=True)\n",
              "            (dropout): Dropout(p=0.1, inplace=False)\n",
              "          )\n",
              "        )\n",
              "        (4): BertLayer(\n",
              "          (attention): BertAttention(\n",
              "            (self): BertSelfAttention(\n",
              "              (query): Linear(in_features=768, out_features=768, bias=True)\n",
              "              (key): Linear(in_features=768, out_features=768, bias=True)\n",
              "              (value): Linear(in_features=768, out_features=768, bias=True)\n",
              "              (dropout): Dropout(p=0.1, inplace=False)\n",
              "            )\n",
              "            (output): BertSelfOutput(\n",
              "              (dense): Linear(in_features=768, out_features=768, bias=True)\n",
              "              (LayerNorm): LayerNorm((768,), eps=1e-12, elementwise_affine=True)\n",
              "              (dropout): Dropout(p=0.1, inplace=False)\n",
              "            )\n",
              "          )\n",
              "          (intermediate): BertIntermediate(\n",
              "            (dense): Linear(in_features=768, out_features=3072, bias=True)\n",
              "          )\n",
              "          (output): BertOutput(\n",
              "            (dense): Linear(in_features=3072, out_features=768, bias=True)\n",
              "            (LayerNorm): LayerNorm((768,), eps=1e-12, elementwise_affine=True)\n",
              "            (dropout): Dropout(p=0.1, inplace=False)\n",
              "          )\n",
              "        )\n",
              "        (5): BertLayer(\n",
              "          (attention): BertAttention(\n",
              "            (self): BertSelfAttention(\n",
              "              (query): Linear(in_features=768, out_features=768, bias=True)\n",
              "              (key): Linear(in_features=768, out_features=768, bias=True)\n",
              "              (value): Linear(in_features=768, out_features=768, bias=True)\n",
              "              (dropout): Dropout(p=0.1, inplace=False)\n",
              "            )\n",
              "            (output): BertSelfOutput(\n",
              "              (dense): Linear(in_features=768, out_features=768, bias=True)\n",
              "              (LayerNorm): LayerNorm((768,), eps=1e-12, elementwise_affine=True)\n",
              "              (dropout): Dropout(p=0.1, inplace=False)\n",
              "            )\n",
              "          )\n",
              "          (intermediate): BertIntermediate(\n",
              "            (dense): Linear(in_features=768, out_features=3072, bias=True)\n",
              "          )\n",
              "          (output): BertOutput(\n",
              "            (dense): Linear(in_features=3072, out_features=768, bias=True)\n",
              "            (LayerNorm): LayerNorm((768,), eps=1e-12, elementwise_affine=True)\n",
              "            (dropout): Dropout(p=0.1, inplace=False)\n",
              "          )\n",
              "        )\n",
              "        (6): BertLayer(\n",
              "          (attention): BertAttention(\n",
              "            (self): BertSelfAttention(\n",
              "              (query): Linear(in_features=768, out_features=768, bias=True)\n",
              "              (key): Linear(in_features=768, out_features=768, bias=True)\n",
              "              (value): Linear(in_features=768, out_features=768, bias=True)\n",
              "              (dropout): Dropout(p=0.1, inplace=False)\n",
              "            )\n",
              "            (output): BertSelfOutput(\n",
              "              (dense): Linear(in_features=768, out_features=768, bias=True)\n",
              "              (LayerNorm): LayerNorm((768,), eps=1e-12, elementwise_affine=True)\n",
              "              (dropout): Dropout(p=0.1, inplace=False)\n",
              "            )\n",
              "          )\n",
              "          (intermediate): BertIntermediate(\n",
              "            (dense): Linear(in_features=768, out_features=3072, bias=True)\n",
              "          )\n",
              "          (output): BertOutput(\n",
              "            (dense): Linear(in_features=3072, out_features=768, bias=True)\n",
              "            (LayerNorm): LayerNorm((768,), eps=1e-12, elementwise_affine=True)\n",
              "            (dropout): Dropout(p=0.1, inplace=False)\n",
              "          )\n",
              "        )\n",
              "        (7): BertLayer(\n",
              "          (attention): BertAttention(\n",
              "            (self): BertSelfAttention(\n",
              "              (query): Linear(in_features=768, out_features=768, bias=True)\n",
              "              (key): Linear(in_features=768, out_features=768, bias=True)\n",
              "              (value): Linear(in_features=768, out_features=768, bias=True)\n",
              "              (dropout): Dropout(p=0.1, inplace=False)\n",
              "            )\n",
              "            (output): BertSelfOutput(\n",
              "              (dense): Linear(in_features=768, out_features=768, bias=True)\n",
              "              (LayerNorm): LayerNorm((768,), eps=1e-12, elementwise_affine=True)\n",
              "              (dropout): Dropout(p=0.1, inplace=False)\n",
              "            )\n",
              "          )\n",
              "          (intermediate): BertIntermediate(\n",
              "            (dense): Linear(in_features=768, out_features=3072, bias=True)\n",
              "          )\n",
              "          (output): BertOutput(\n",
              "            (dense): Linear(in_features=3072, out_features=768, bias=True)\n",
              "            (LayerNorm): LayerNorm((768,), eps=1e-12, elementwise_affine=True)\n",
              "            (dropout): Dropout(p=0.1, inplace=False)\n",
              "          )\n",
              "        )\n",
              "        (8): BertLayer(\n",
              "          (attention): BertAttention(\n",
              "            (self): BertSelfAttention(\n",
              "              (query): Linear(in_features=768, out_features=768, bias=True)\n",
              "              (key): Linear(in_features=768, out_features=768, bias=True)\n",
              "              (value): Linear(in_features=768, out_features=768, bias=True)\n",
              "              (dropout): Dropout(p=0.1, inplace=False)\n",
              "            )\n",
              "            (output): BertSelfOutput(\n",
              "              (dense): Linear(in_features=768, out_features=768, bias=True)\n",
              "              (LayerNorm): LayerNorm((768,), eps=1e-12, elementwise_affine=True)\n",
              "              (dropout): Dropout(p=0.1, inplace=False)\n",
              "            )\n",
              "          )\n",
              "          (intermediate): BertIntermediate(\n",
              "            (dense): Linear(in_features=768, out_features=3072, bias=True)\n",
              "          )\n",
              "          (output): BertOutput(\n",
              "            (dense): Linear(in_features=3072, out_features=768, bias=True)\n",
              "            (LayerNorm): LayerNorm((768,), eps=1e-12, elementwise_affine=True)\n",
              "            (dropout): Dropout(p=0.1, inplace=False)\n",
              "          )\n",
              "        )\n",
              "        (9): BertLayer(\n",
              "          (attention): BertAttention(\n",
              "            (self): BertSelfAttention(\n",
              "              (query): Linear(in_features=768, out_features=768, bias=True)\n",
              "              (key): Linear(in_features=768, out_features=768, bias=True)\n",
              "              (value): Linear(in_features=768, out_features=768, bias=True)\n",
              "              (dropout): Dropout(p=0.1, inplace=False)\n",
              "            )\n",
              "            (output): BertSelfOutput(\n",
              "              (dense): Linear(in_features=768, out_features=768, bias=True)\n",
              "              (LayerNorm): LayerNorm((768,), eps=1e-12, elementwise_affine=True)\n",
              "              (dropout): Dropout(p=0.1, inplace=False)\n",
              "            )\n",
              "          )\n",
              "          (intermediate): BertIntermediate(\n",
              "            (dense): Linear(in_features=768, out_features=3072, bias=True)\n",
              "          )\n",
              "          (output): BertOutput(\n",
              "            (dense): Linear(in_features=3072, out_features=768, bias=True)\n",
              "            (LayerNorm): LayerNorm((768,), eps=1e-12, elementwise_affine=True)\n",
              "            (dropout): Dropout(p=0.1, inplace=False)\n",
              "          )\n",
              "        )\n",
              "        (10): BertLayer(\n",
              "          (attention): BertAttention(\n",
              "            (self): BertSelfAttention(\n",
              "              (query): Linear(in_features=768, out_features=768, bias=True)\n",
              "              (key): Linear(in_features=768, out_features=768, bias=True)\n",
              "              (value): Linear(in_features=768, out_features=768, bias=True)\n",
              "              (dropout): Dropout(p=0.1, inplace=False)\n",
              "            )\n",
              "            (output): BertSelfOutput(\n",
              "              (dense): Linear(in_features=768, out_features=768, bias=True)\n",
              "              (LayerNorm): LayerNorm((768,), eps=1e-12, elementwise_affine=True)\n",
              "              (dropout): Dropout(p=0.1, inplace=False)\n",
              "            )\n",
              "          )\n",
              "          (intermediate): BertIntermediate(\n",
              "            (dense): Linear(in_features=768, out_features=3072, bias=True)\n",
              "          )\n",
              "          (output): BertOutput(\n",
              "            (dense): Linear(in_features=3072, out_features=768, bias=True)\n",
              "            (LayerNorm): LayerNorm((768,), eps=1e-12, elementwise_affine=True)\n",
              "            (dropout): Dropout(p=0.1, inplace=False)\n",
              "          )\n",
              "        )\n",
              "        (11): BertLayer(\n",
              "          (attention): BertAttention(\n",
              "            (self): BertSelfAttention(\n",
              "              (query): Linear(in_features=768, out_features=768, bias=True)\n",
              "              (key): Linear(in_features=768, out_features=768, bias=True)\n",
              "              (value): Linear(in_features=768, out_features=768, bias=True)\n",
              "              (dropout): Dropout(p=0.1, inplace=False)\n",
              "            )\n",
              "            (output): BertSelfOutput(\n",
              "              (dense): Linear(in_features=768, out_features=768, bias=True)\n",
              "              (LayerNorm): LayerNorm((768,), eps=1e-12, elementwise_affine=True)\n",
              "              (dropout): Dropout(p=0.1, inplace=False)\n",
              "            )\n",
              "          )\n",
              "          (intermediate): BertIntermediate(\n",
              "            (dense): Linear(in_features=768, out_features=3072, bias=True)\n",
              "          )\n",
              "          (output): BertOutput(\n",
              "            (dense): Linear(in_features=3072, out_features=768, bias=True)\n",
              "            (LayerNorm): LayerNorm((768,), eps=1e-12, elementwise_affine=True)\n",
              "            (dropout): Dropout(p=0.1, inplace=False)\n",
              "          )\n",
              "        )\n",
              "      )\n",
              "    )\n",
              "    (pooler): BertPooler(\n",
              "      (dense): Linear(in_features=768, out_features=768, bias=True)\n",
              "      (activation): Tanh()\n",
              "    )\n",
              "  )\n",
              "  (dropout): Dropout(p=0.1, inplace=False)\n",
              "  (classifier): Linear(in_features=768, out_features=2, bias=True)\n",
              ")"
            ]
          },
          "metadata": {
            "tags": []
          },
          "execution_count": 18
        }
      ]
    },
    {
      "cell_type": "markdown",
      "metadata": {
        "id": "bY4j13RwBAhj"
      },
      "source": [
        "Just for curiosity’s sake, we can browse all of the model’s parameters by name here.\n",
        "\n",
        "In the below cell, I’ve printed out the names and dimensions of the weights for:\n",
        "\n",
        "\n",
        "\n",
        "1.   The embedding layer.\n",
        "2.   The first of the twelve transformers.\n",
        "3.   The output layer.\n",
        "\n",
        "\n",
        "\n"
      ]
    },
    {
      "cell_type": "code",
      "metadata": {
        "colab": {
          "base_uri": "https://localhost:8080/"
        },
        "id": "QrRRB9Z6A0qK",
        "outputId": "3dae4b54-d2ea-4d8f-d8ac-859b8c038592"
      },
      "source": [
        "# Get all of the model's parameters as a list of tuples.\n",
        "params = list(model.named_parameters())\n",
        "\n",
        "print('The BERT model has {:} different named parameters.\\n'.format(len(params)))\n",
        "\n",
        "print('==== Embedding Layer ====\\n')\n",
        "\n",
        "for p in params[0:5]:\n",
        "    print(\"{:<55} {:>12}\".format(p[0], str(tuple(p[1].size()))))\n",
        "\n",
        "print('\\n==== First Transformer ====\\n')\n",
        "\n",
        "for p in params[5:21]:\n",
        "    print(\"{:<55} {:>12}\".format(p[0], str(tuple(p[1].size()))))\n",
        "\n",
        "print('\\n==== Output Layer ====\\n')\n",
        "\n",
        "for p in params[-4:]:\n",
        "    print(\"{:<55} {:>12}\".format(p[0], str(tuple(p[1].size()))))"
      ],
      "execution_count": 19,
      "outputs": [
        {
          "output_type": "stream",
          "text": [
            "The BERT model has 201 different named parameters.\n",
            "\n",
            "==== Embedding Layer ====\n",
            "\n",
            "bert.embeddings.word_embeddings.weight                  (30522, 768)\n",
            "bert.embeddings.position_embeddings.weight                (512, 768)\n",
            "bert.embeddings.token_type_embeddings.weight                (2, 768)\n",
            "bert.embeddings.LayerNorm.weight                              (768,)\n",
            "bert.embeddings.LayerNorm.bias                                (768,)\n",
            "\n",
            "==== First Transformer ====\n",
            "\n",
            "bert.encoder.layer.0.attention.self.query.weight          (768, 768)\n",
            "bert.encoder.layer.0.attention.self.query.bias                (768,)\n",
            "bert.encoder.layer.0.attention.self.key.weight            (768, 768)\n",
            "bert.encoder.layer.0.attention.self.key.bias                  (768,)\n",
            "bert.encoder.layer.0.attention.self.value.weight          (768, 768)\n",
            "bert.encoder.layer.0.attention.self.value.bias                (768,)\n",
            "bert.encoder.layer.0.attention.output.dense.weight        (768, 768)\n",
            "bert.encoder.layer.0.attention.output.dense.bias              (768,)\n",
            "bert.encoder.layer.0.attention.output.LayerNorm.weight        (768,)\n",
            "bert.encoder.layer.0.attention.output.LayerNorm.bias          (768,)\n",
            "bert.encoder.layer.0.intermediate.dense.weight           (3072, 768)\n",
            "bert.encoder.layer.0.intermediate.dense.bias                 (3072,)\n",
            "bert.encoder.layer.0.output.dense.weight                 (768, 3072)\n",
            "bert.encoder.layer.0.output.dense.bias                        (768,)\n",
            "bert.encoder.layer.0.output.LayerNorm.weight                  (768,)\n",
            "bert.encoder.layer.0.output.LayerNorm.bias                    (768,)\n",
            "\n",
            "==== Output Layer ====\n",
            "\n",
            "bert.pooler.dense.weight                                  (768, 768)\n",
            "bert.pooler.dense.bias                                        (768,)\n",
            "classifier.weight                                           (2, 768)\n",
            "classifier.bias                                                 (2,)\n"
          ],
          "name": "stdout"
        }
      ]
    },
    {
      "cell_type": "markdown",
      "metadata": {
        "id": "m3X6Zsk7BT6z"
      },
      "source": [
        "**4.2. Optimizer & Learning Rate Scheduler**\n",
        "\n",
        "Now that we have our model loaded we need to grab the training hyperparameters from within the stored model.\n",
        "\n",
        "For the purposes of fine-tuning, the authors recommend choosing from the following values from the original  [BERT paper](https://arxiv.org/pdf/1810.04805.pdf)\n",
        "\n",
        "\n",
        "\n",
        "*   **Batch size**: 16, 32\n",
        "*   **Learning rate (Adam)**: 5e-5, 3e-5, 2e-5\n",
        "*   **Number of epochs**: 2, 3, 4\n",
        "\n",
        "We chose:\n",
        "\n",
        "\n",
        "*   Batch size: 32 (set when creating our DataLoaders)\n",
        "*   Learning rate: 2e-5\n",
        "*   Epochs: 4\n",
        "\n",
        "The epsilon parameter eps = 1e-8 is “a very small number to prevent any division by zero in the implementation”(from [here](https://machinelearningmastery.com/adam-optimization-algorithm-for-deep-learning/)\n",
        "\n"
      ]
    },
    {
      "cell_type": "code",
      "metadata": {
        "id": "wI5PYfzQBNNP"
      },
      "source": [
        "# Note: AdamW is a class from the huggingface library (as opposed to pytorch) \n",
        "# I believe the 'W' stands for 'Weight Decay fix\"\n",
        "optimizer = AdamW(model.parameters(),\n",
        "                  lr = 2e-5, # args.learning_rate - default is 5e-5, our notebook had 2e-5\n",
        "                  eps = 1e-8 # args.adam_epsilon  - default is 1e-8.\n",
        "                )\n"
      ],
      "execution_count": 20,
      "outputs": []
    },
    {
      "cell_type": "code",
      "metadata": {
        "id": "Gpstg6mOCPOh"
      },
      "source": [
        "from transformers import get_linear_schedule_with_warmup\n",
        "\n",
        "# Number of training epochs. The BERT authors recommend between 2 and 4. \n",
        "# We chose to run for 4, but we'll see later that this may be over-fitting the\n",
        "# training data.\n",
        "epochs = 4\n",
        "\n",
        "# Total number of training steps is [number of batches] x [number of epochs]. \n",
        "# (Note that this is not the same as the number of training samples).\n",
        "total_steps = len(train_dataloader) * epochs\n",
        "\n",
        "# Create the learning rate scheduler.\n",
        "scheduler = get_linear_schedule_with_warmup(optimizer, \n",
        "                                            num_warmup_steps = 0, # Default value in run_glue.py\n",
        "                                            num_training_steps = total_steps)"
      ],
      "execution_count": 21,
      "outputs": []
    },
    {
      "cell_type": "markdown",
      "metadata": {
        "id": "bAOz-74UCUHC"
      },
      "source": [
        "**4.3. Training Loop**\n",
        "\n",
        "Below is our training loop. There’s a lot going on, but fundamentally for each pass in our loop we have a trianing phase and a validation phase.\n",
        "\n",
        "**Training:**\n",
        "\n",
        "\n",
        "\n",
        "*   Unpack our data inputs and labels\n",
        "*   Load data onto the GPU for acceleration\n",
        "*   Clear out the gradients calculated in the previous pass(In pytorch the gradients accumulate by default (useful for things like RNNs) unless you explicitly clear them out.).\n",
        "*   Forward pass (feed input data through the network)\n",
        "*   Backward pass (backpropagation)\n",
        "*   Tell the network to update parameters with optimizer.step()\n",
        "*   Track variables for monitoring progress\n",
        "\n",
        "**Evalution:**\n",
        "\n",
        "\n",
        "\n",
        "*   Unpack our data inputs and labels\n",
        "*   Load data onto the GPU for acceleration\n",
        "*   Forward pass (feed input data through the network)\n",
        "*   Compute loss on our validation data and track variables for monitoring progress\n",
        "\n",
        "Pytorch hides all of the detailed calculations from us, but we’ve commented the code to point out which of the above steps are happening on each line.\n",
        "\n",
        "Define a helper function for calculating accuracy.\n",
        "\n",
        "\n"
      ]
    },
    {
      "cell_type": "code",
      "metadata": {
        "id": "L1OU9GIPCSHI"
      },
      "source": [
        "import numpy as np\n",
        "\n",
        "# Function to calculate the accuracy of our predictions vs labels\n",
        "def flat_accuracy(preds, labels):\n",
        "    pred_flat = np.argmax(preds, axis=1).flatten()\n",
        "    labels_flat = labels.flatten()\n",
        "    return np.sum(pred_flat == labels_flat) / len(labels_flat)"
      ],
      "execution_count": 22,
      "outputs": []
    },
    {
      "cell_type": "markdown",
      "metadata": {
        "id": "hDAZny18DQHU"
      },
      "source": [
        "Helper function for formatting elapsed times as hh:mm:ss"
      ]
    },
    {
      "cell_type": "code",
      "metadata": {
        "id": "TBWHlgbZDONh"
      },
      "source": [
        "import time\n",
        "import datetime\n",
        "\n",
        "def format_time(elapsed):\n",
        "    '''\n",
        "    Takes a time in seconds and returns a string hh:mm:ss\n",
        "    '''\n",
        "    # Round to the nearest second.\n",
        "    elapsed_rounded = int(round((elapsed)))\n",
        "    \n",
        "    # Format as hh:mm:ss\n",
        "    return str(datetime.timedelta(seconds=elapsed_rounded))"
      ],
      "execution_count": 23,
      "outputs": []
    },
    {
      "cell_type": "markdown",
      "metadata": {
        "id": "PeWEZhWmDVTR"
      },
      "source": [
        "We’re ready to kick off the training!"
      ]
    },
    {
      "cell_type": "code",
      "metadata": {
        "colab": {
          "base_uri": "https://localhost:8080/"
        },
        "id": "lXnb-EY3DTBH",
        "outputId": "4c1e99cf-9d07-4aac-98c9-97bb92d6cd8c"
      },
      "source": [
        "import random\n",
        "import numpy as np\n",
        "\n",
        "# This training code is based on the `run_glue.py` script here:\n",
        "# https://github.com/huggingface/transformers/blob/5bfcd0485ece086ebcbed2d008813037968a9e58/examples/run_glue.py#L128\n",
        "\n",
        "# Set the seed value all over the place to make this reproducible.\n",
        "seed_val = 42\n",
        "\n",
        "random.seed(seed_val)\n",
        "np.random.seed(seed_val)\n",
        "torch.manual_seed(seed_val)\n",
        "torch.cuda.manual_seed_all(seed_val)\n",
        "\n",
        "# We'll store a number of quantities such as training and validation loss, \n",
        "# validation accuracy, and timings.\n",
        "training_stats = []\n",
        "\n",
        "# Measure the total training time for the whole run.\n",
        "total_t0 = time.time()\n",
        "\n",
        "# For each epoch...\n",
        "for epoch_i in range(0, epochs):\n",
        "    \n",
        "    # ========================================\n",
        "    #               Training\n",
        "    # ========================================\n",
        "    \n",
        "    # Perform one full pass over the training set.\n",
        "\n",
        "    print(\"\")\n",
        "    print('======== Epoch {:} / {:} ========'.format(epoch_i + 1, epochs))\n",
        "    print('Training...')\n",
        "\n",
        "    # Measure how long the training epoch takes.\n",
        "    t0 = time.time()\n",
        "\n",
        "    # Reset the total loss for this epoch.\n",
        "    total_train_loss = 0\n",
        "\n",
        "    # Put the model into training mode. Don't be mislead--the call to \n",
        "    # `train` just changes the *mode*, it doesn't *perform* the training.\n",
        "    # `dropout` and `batchnorm` layers behave differently during training\n",
        "    # vs. test (source: https://stackoverflow.com/questions/51433378/what-does-model-train-do-in-pytorch)\n",
        "    model.train()\n",
        "\n",
        "    # For each batch of training data...\n",
        "    for step, batch in enumerate(train_dataloader):\n",
        "\n",
        "        # Progress update every 40 batches.\n",
        "        if step % 40 == 0 and not step == 0:\n",
        "            # Calculate elapsed time in minutes.\n",
        "            elapsed = format_time(time.time() - t0)\n",
        "            \n",
        "            # Report progress.\n",
        "            print('  Batch {:>5,}  of  {:>5,}.    Elapsed: {:}.'.format(step, len(train_dataloader), elapsed))\n",
        "\n",
        "        # Unpack this training batch from our dataloader. \n",
        "        #\n",
        "        # As we unpack the batch, we'll also copy each tensor to the GPU using the \n",
        "        # `to` method.\n",
        "        #\n",
        "        # `batch` contains three pytorch tensors:\n",
        "        #   [0]: input ids \n",
        "        #   [1]: attention masks\n",
        "        #   [2]: labels \n",
        "        b_input_ids = batch[0].to(device)\n",
        "        b_input_mask = batch[1].to(device)\n",
        "        b_labels = batch[2].to(device)\n",
        "\n",
        "        # Always clear any previously calculated gradients before performing a\n",
        "        # backward pass. PyTorch doesn't do this automatically because \n",
        "        # accumulating the gradients is \"convenient while training RNNs\". \n",
        "        # (source: https://stackoverflow.com/questions/48001598/why-do-we-need-to-call-zero-grad-in-pytorch)\n",
        "        model.zero_grad()        \n",
        "\n",
        "        # Perform a forward pass (evaluate the model on this training batch).\n",
        "        # The documentation for this `model` function is here: \n",
        "        # https://huggingface.co/transformers/v2.2.0/model_doc/bert.html#transformers.BertForSequenceClassification\n",
        "        # It returns different numbers of parameters depending on what arguments\n",
        "        # arge given and what flags are set. For our useage here, it returns\n",
        "        # the loss (because we provided labels) and the \"logits\"--the model\n",
        "        # outputs prior to activation.\n",
        "        loss, logits = model(b_input_ids, \n",
        "                             token_type_ids=None, \n",
        "                             attention_mask=b_input_mask, \n",
        "                             labels=b_labels)\n",
        "\n",
        "        # Accumulate the training loss over all of the batches so that we can\n",
        "        # calculate the average loss at the end. `loss` is a Tensor containing a\n",
        "        # single value; the `.item()` function just returns the Python value \n",
        "        # from the tensor.\n",
        "        total_train_loss += loss.item()\n",
        "\n",
        "        # Perform a backward pass to calculate the gradients.\n",
        "        loss.backward()\n",
        "\n",
        "        # Clip the norm of the gradients to 1.0.\n",
        "        # This is to help prevent the \"exploding gradients\" problem.\n",
        "        torch.nn.utils.clip_grad_norm_(model.parameters(), 1.0)\n",
        "\n",
        "        # Update parameters and take a step using the computed gradient.\n",
        "        # The optimizer dictates the \"update rule\"--how the parameters are\n",
        "        # modified based on their gradients, the learning rate, etc.\n",
        "        optimizer.step()\n",
        "\n",
        "        # Update the learning rate.\n",
        "        scheduler.step()\n",
        "\n",
        "    # Calculate the average loss over all of the batches.\n",
        "    avg_train_loss = total_train_loss / len(train_dataloader)            \n",
        "    \n",
        "    # Measure how long this epoch took.\n",
        "    training_time = format_time(time.time() - t0)\n",
        "\n",
        "    print(\"\")\n",
        "    print(\"  Average training loss: {0:.2f}\".format(avg_train_loss))\n",
        "    print(\"  Training epcoh took: {:}\".format(training_time))\n",
        "        \n",
        "    # ========================================\n",
        "    #               Validation\n",
        "    # ========================================\n",
        "    # After the completion of each training epoch, measure our performance on\n",
        "    # our validation set.\n",
        "\n",
        "    print(\"\")\n",
        "    print(\"Running Validation...\")\n",
        "\n",
        "    t0 = time.time()\n",
        "\n",
        "    # Put the model in evaluation mode--the dropout layers behave differently\n",
        "    # during evaluation.\n",
        "    model.eval()\n",
        "\n",
        "    # Tracking variables \n",
        "    total_eval_accuracy = 0\n",
        "    total_eval_loss = 0\n",
        "    nb_eval_steps = 0\n",
        "\n",
        "    # Evaluate data for one epoch\n",
        "    for batch in validation_dataloader:\n",
        "        \n",
        "        # Unpack this training batch from our dataloader. \n",
        "        #\n",
        "        # As we unpack the batch, we'll also copy each tensor to the GPU using \n",
        "        # the `to` method.\n",
        "        #\n",
        "        # `batch` contains three pytorch tensors:\n",
        "        #   [0]: input ids \n",
        "        #   [1]: attention masks\n",
        "        #   [2]: labels \n",
        "        b_input_ids = batch[0].to(device)\n",
        "        b_input_mask = batch[1].to(device)\n",
        "        b_labels = batch[2].to(device)\n",
        "        \n",
        "        # Tell pytorch not to bother with constructing the compute graph during\n",
        "        # the forward pass, since this is only needed for backprop (training).\n",
        "        with torch.no_grad():        \n",
        "\n",
        "            # Forward pass, calculate logit predictions.\n",
        "            # token_type_ids is the same as the \"segment ids\", which \n",
        "            # differentiates sentence 1 and 2 in 2-sentence tasks.\n",
        "            # The documentation for this `model` function is here: \n",
        "            # https://huggingface.co/transformers/v2.2.0/model_doc/bert.html#transformers.BertForSequenceClassification\n",
        "            # Get the \"logits\" output by the model. The \"logits\" are the output\n",
        "            # values prior to applying an activation function like the softmax.\n",
        "            (loss, logits) = model(b_input_ids, \n",
        "                                   token_type_ids=None, \n",
        "                                   attention_mask=b_input_mask,\n",
        "                                   labels=b_labels)\n",
        "            \n",
        "        # Accumulate the validation loss.\n",
        "        total_eval_loss += loss.item()    #There will be attribute error when we use Transfromer version above 4.0\n",
        "\n",
        "        \"\"\" The quick solution is to use transformer version 3.5.1 with !pip install torch==1.4.0 or to use below code\n",
        "         output = model(b_input_ids, token_type_ids=None, attention_mask=b_input_mask, labels=b_labels)\n",
        "         loss = output.loss\n",
        "        logits = output.logits\n",
        "\n",
        "         (or)\n",
        "        outputs = model(b_input_ids,\n",
        "        token_type_ids=None,\n",
        "        attention_mask=b_input_mask,\n",
        "        labels=b_labels)\n",
        "        loss = outputs[0]\n",
        "        logits = outputs[1] \n",
        "\n",
        "        \"\"\"\n",
        "\n",
        "        # Move logits and labels to CPU\n",
        "        logits = logits.detach().cpu().numpy()\n",
        "        label_ids = b_labels.to('cpu').numpy()\n",
        "\n",
        "        # Calculate the accuracy for this batch of test sentences, and\n",
        "        # accumulate it over all batches.\n",
        "        total_eval_accuracy += flat_accuracy(logits, label_ids)\n",
        "        \n",
        "\n",
        "    # Report the final accuracy for this validation run.\n",
        "    avg_val_accuracy = total_eval_accuracy / len(validation_dataloader)\n",
        "    print(\"  Accuracy: {0:.2f}\".format(avg_val_accuracy))\n",
        "\n",
        "    # Calculate the average loss over all of the batches.\n",
        "    avg_val_loss = total_eval_loss / len(validation_dataloader)\n",
        "    \n",
        "    # Measure how long the validation run took.\n",
        "    validation_time = format_time(time.time() - t0)\n",
        "    \n",
        "    print(\"  Validation Loss: {0:.2f}\".format(avg_val_loss))\n",
        "    print(\"  Validation took: {:}\".format(validation_time))\n",
        "\n",
        "    # Record all statistics from this epoch.\n",
        "    training_stats.append(\n",
        "        {\n",
        "            'epoch': epoch_i + 1,\n",
        "            'Training Loss': avg_train_loss,\n",
        "            'Valid. Loss': avg_val_loss,\n",
        "            'Valid. Accur.': avg_val_accuracy,\n",
        "            'Training Time': training_time,\n",
        "            'Validation Time': validation_time\n",
        "        }\n",
        "    )\n",
        "\n",
        "print(\"\")\n",
        "print(\"Training complete!\")\n",
        "\n",
        "print(\"Total training took {:} (h:mm:ss)\".format(format_time(time.time()-total_t0)))"
      ],
      "execution_count": 24,
      "outputs": [
        {
          "output_type": "stream",
          "text": [
            "\n",
            "======== Epoch 1 / 4 ========\n",
            "Training...\n",
            "  Batch    40  of    241.    Elapsed: 0:00:15.\n",
            "  Batch    80  of    241.    Elapsed: 0:00:29.\n",
            "  Batch   120  of    241.    Elapsed: 0:00:44.\n",
            "  Batch   160  of    241.    Elapsed: 0:00:59.\n",
            "  Batch   200  of    241.    Elapsed: 0:01:13.\n",
            "  Batch   240  of    241.    Elapsed: 0:01:28.\n",
            "\n",
            "  Average training loss: 0.50\n",
            "  Training epcoh took: 0:01:28\n",
            "\n",
            "Running Validation...\n",
            "  Accuracy: 0.79\n",
            "  Validation Loss: 0.45\n",
            "  Validation took: 0:00:03\n",
            "\n",
            "======== Epoch 2 / 4 ========\n",
            "Training...\n",
            "  Batch    40  of    241.    Elapsed: 0:00:15.\n",
            "  Batch    80  of    241.    Elapsed: 0:00:29.\n",
            "  Batch   120  of    241.    Elapsed: 0:00:44.\n",
            "  Batch   160  of    241.    Elapsed: 0:00:58.\n",
            "  Batch   200  of    241.    Elapsed: 0:01:13.\n",
            "  Batch   240  of    241.    Elapsed: 0:01:28.\n",
            "\n",
            "  Average training loss: 0.30\n",
            "  Training epcoh took: 0:01:28\n",
            "\n",
            "Running Validation...\n",
            "  Accuracy: 0.82\n",
            "  Validation Loss: 0.44\n",
            "  Validation took: 0:00:03\n",
            "\n",
            "======== Epoch 3 / 4 ========\n",
            "Training...\n",
            "  Batch    40  of    241.    Elapsed: 0:00:15.\n",
            "  Batch    80  of    241.    Elapsed: 0:00:29.\n",
            "  Batch   120  of    241.    Elapsed: 0:00:44.\n",
            "  Batch   160  of    241.    Elapsed: 0:00:58.\n",
            "  Batch   200  of    241.    Elapsed: 0:01:13.\n",
            "  Batch   240  of    241.    Elapsed: 0:01:28.\n",
            "\n",
            "  Average training loss: 0.19\n",
            "  Training epcoh took: 0:01:28\n",
            "\n",
            "Running Validation...\n",
            "  Accuracy: 0.83\n",
            "  Validation Loss: 0.53\n",
            "  Validation took: 0:00:03\n",
            "\n",
            "======== Epoch 4 / 4 ========\n",
            "Training...\n",
            "  Batch    40  of    241.    Elapsed: 0:00:15.\n",
            "  Batch    80  of    241.    Elapsed: 0:00:29.\n",
            "  Batch   120  of    241.    Elapsed: 0:00:44.\n",
            "  Batch   160  of    241.    Elapsed: 0:00:58.\n",
            "  Batch   200  of    241.    Elapsed: 0:01:13.\n",
            "  Batch   240  of    241.    Elapsed: 0:01:28.\n",
            "\n",
            "  Average training loss: 0.13\n",
            "  Training epcoh took: 0:01:28\n",
            "\n",
            "Running Validation...\n",
            "  Accuracy: 0.83\n",
            "  Validation Loss: 0.60\n",
            "  Validation took: 0:00:03\n",
            "\n",
            "Training complete!\n",
            "Total training took 0:06:04 (h:mm:ss)\n"
          ],
          "name": "stdout"
        }
      ]
    },
    {
      "cell_type": "markdown",
      "metadata": {
        "id": "74-8ZYE2OmWh"
      },
      "source": [
        "Let’s view the summary of the training process."
      ]
    },
    {
      "cell_type": "code",
      "metadata": {
        "colab": {
          "base_uri": "https://localhost:8080/",
          "height": 202
        },
        "id": "8UnF0neBDc3w",
        "outputId": "d523e825-af37-4083-cb53-dd0759819e03"
      },
      "source": [
        "import pandas as pd\n",
        "\n",
        "# Display floats with two decimal places.\n",
        "pd.set_option('precision', 2)\n",
        "\n",
        "# Create a DataFrame from our training statistics.\n",
        "df_stats = pd.DataFrame(data=training_stats)\n",
        "\n",
        "# Use the 'epoch' as the row index.\n",
        "df_stats = df_stats.set_index('epoch')\n",
        "\n",
        "# A hack to force the column headers to wrap.\n",
        "#df = df.style.set_table_styles([dict(selector=\"th\",props=[('max-width', '70px')])])\n",
        "\n",
        "# Display the table.\n",
        "df_stats"
      ],
      "execution_count": 27,
      "outputs": [
        {
          "output_type": "execute_result",
          "data": {
            "text/html": [
              "<div>\n",
              "<style scoped>\n",
              "    .dataframe tbody tr th:only-of-type {\n",
              "        vertical-align: middle;\n",
              "    }\n",
              "\n",
              "    .dataframe tbody tr th {\n",
              "        vertical-align: top;\n",
              "    }\n",
              "\n",
              "    .dataframe thead th {\n",
              "        text-align: right;\n",
              "    }\n",
              "</style>\n",
              "<table border=\"1\" class=\"dataframe\">\n",
              "  <thead>\n",
              "    <tr style=\"text-align: right;\">\n",
              "      <th></th>\n",
              "      <th>Training Loss</th>\n",
              "      <th>Valid. Loss</th>\n",
              "      <th>Valid. Accur.</th>\n",
              "      <th>Training Time</th>\n",
              "      <th>Validation Time</th>\n",
              "    </tr>\n",
              "    <tr>\n",
              "      <th>epoch</th>\n",
              "      <th></th>\n",
              "      <th></th>\n",
              "      <th></th>\n",
              "      <th></th>\n",
              "      <th></th>\n",
              "    </tr>\n",
              "  </thead>\n",
              "  <tbody>\n",
              "    <tr>\n",
              "      <th>1</th>\n",
              "      <td>0.50</td>\n",
              "      <td>0.45</td>\n",
              "      <td>0.79</td>\n",
              "      <td>0:01:28</td>\n",
              "      <td>0:00:03</td>\n",
              "    </tr>\n",
              "    <tr>\n",
              "      <th>2</th>\n",
              "      <td>0.30</td>\n",
              "      <td>0.44</td>\n",
              "      <td>0.82</td>\n",
              "      <td>0:01:28</td>\n",
              "      <td>0:00:03</td>\n",
              "    </tr>\n",
              "    <tr>\n",
              "      <th>3</th>\n",
              "      <td>0.19</td>\n",
              "      <td>0.53</td>\n",
              "      <td>0.83</td>\n",
              "      <td>0:01:28</td>\n",
              "      <td>0:00:03</td>\n",
              "    </tr>\n",
              "    <tr>\n",
              "      <th>4</th>\n",
              "      <td>0.13</td>\n",
              "      <td>0.60</td>\n",
              "      <td>0.83</td>\n",
              "      <td>0:01:28</td>\n",
              "      <td>0:00:03</td>\n",
              "    </tr>\n",
              "  </tbody>\n",
              "</table>\n",
              "</div>"
            ],
            "text/plain": [
              "       Training Loss  Valid. Loss  Valid. Accur. Training Time Validation Time\n",
              "epoch                                                                         \n",
              "1               0.50         0.45           0.79       0:01:28         0:00:03\n",
              "2               0.30         0.44           0.82       0:01:28         0:00:03\n",
              "3               0.19         0.53           0.83       0:01:28         0:00:03\n",
              "4               0.13         0.60           0.83       0:01:28         0:00:03"
            ]
          },
          "metadata": {
            "tags": []
          },
          "execution_count": 27
        }
      ]
    },
    {
      "cell_type": "markdown",
      "metadata": {
        "id": "bEH5JryEOzD_"
      },
      "source": [
        "Notice that, while the the training loss is going down with each epoch, the validation loss is increasing! This suggests that we are training our model too long, and it’s over-fitting on the training data.\n",
        "\n",
        "(For reference, we are using 7,695 training samples and 856 validation samples).\n",
        "\n",
        "Validation Loss is a more precise measure than accuracy, because with accuracy we don’t care about the exact output value, but just which side of a threshold it falls on.\n",
        "\n",
        "If we are predicting the correct answer, but with less confidence, then validation loss will catch this, while accuracy will not."
      ]
    },
    {
      "cell_type": "code",
      "metadata": {
        "colab": {
          "base_uri": "https://localhost:8080/",
          "height": 426
        },
        "id": "hp7O5MjcOp5t",
        "outputId": "43879b52-fdb6-4767-8a7e-a63bc26aae1c"
      },
      "source": [
        "import matplotlib.pyplot as plt\n",
        "% matplotlib inline\n",
        "\n",
        "import seaborn as sns\n",
        "\n",
        "# Use plot styling from seaborn.\n",
        "sns.set(style='darkgrid')\n",
        "\n",
        "# Increase the plot size and font size.\n",
        "sns.set(font_scale=1.5)\n",
        "plt.rcParams[\"figure.figsize\"] = (12,6)\n",
        "\n",
        "# Plot the learning curve.\n",
        "plt.plot(df_stats['Training Loss'], 'b-o', label=\"Training\")\n",
        "plt.plot(df_stats['Valid. Loss'], 'g-o', label=\"Validation\")\n",
        "\n",
        "# Label the plot.\n",
        "plt.title(\"Training & Validation Loss\")\n",
        "plt.xlabel(\"Epoch\")\n",
        "plt.ylabel(\"Loss\")\n",
        "plt.legend()\n",
        "plt.xticks([1, 2, 3, 4])\n",
        "\n",
        "plt.show()"
      ],
      "execution_count": 28,
      "outputs": [
        {
          "output_type": "display_data",
          "data": {
            "image/png": "[encoded data removed]",
            "text/plain": [
              "<Figure size 864x432 with 1 Axes>"
            ]
          },
          "metadata": {
            "tags": []
          }
        }
      ]
    },
    {
      "cell_type": "markdown",
      "metadata": {
        "id": "tWGp3og2O704"
      },
      "source": [
        "**5. Performance On Test Set**\n",
        "\n",
        "Now we’ll load the holdout dataset and prepare inputs just as we did with the training set. Then we’ll evaluate predictions using Matthew’s correlation coefficient because this is the metric used by the wider NLP community to evaluate performance on CoLA. With this metric, +1 is the best score, and -1 is the worst score. This way, we can see how well we perform against the state of the art models for this specific task.\n"
      ]
    },
    {
      "cell_type": "markdown",
      "metadata": {
        "id": "npu13R96PEN3"
      },
      "source": [
        "**5.1. Data Preparation**\n",
        "\n",
        "We’ll need to apply all of the same steps that we did for the training data to prepare our test data set."
      ]
    },
    {
      "cell_type": "code",
      "metadata": {
        "colab": {
          "base_uri": "https://localhost:8080/"
        },
        "id": "kaiNdhDUO59b",
        "outputId": "b0bc7100-f712-422c-ec0f-562a28cc8b0e"
      },
      "source": [
        "import pandas as pd\n",
        "\n",
        "# Load the dataset into a pandas dataframe.\n",
        "df = pd.read_csv(\"./cola_public/raw/out_of_domain_dev.tsv\", delimiter='\\t', header=None, names=['sentence_source', 'label', 'label_notes', 'sentence'])\n",
        "\n",
        "# Report the number of sentences.\n",
        "print('Number of test sentences: {:,}\\n'.format(df.shape[0]))\n",
        "\n",
        "# Create sentence and label lists\n",
        "sentences = df.sentence.values\n",
        "labels = df.label.values\n",
        "\n",
        "# Tokenize all of the sentences and map the tokens to thier word IDs.\n",
        "input_ids = []\n",
        "attention_masks = []\n",
        "\n",
        "# For every sentence...\n",
        "for sent in sentences:\n",
        "    # `encode_plus` will:\n",
        "    #   (1) Tokenize the sentence.\n",
        "    #   (2) Prepend the `[CLS]` token to the start.\n",
        "    #   (3) Append the `[SEP]` token to the end.\n",
        "    #   (4) Map tokens to their IDs.\n",
        "    #   (5) Pad or truncate the sentence to `max_length`\n",
        "    #   (6) Create attention masks for [PAD] tokens.\n",
        "    encoded_dict = tokenizer.encode_plus(\n",
        "                        sent,                      # Sentence to encode.\n",
        "                        add_special_tokens = True, # Add '[CLS]' and '[SEP]'\n",
        "                        max_length = 64,           # Pad & truncate all sentences.\n",
        "                        pad_to_max_length = True,\n",
        "                        return_attention_mask = True,   # Construct attn. masks.\n",
        "                        return_tensors = 'pt',     # Return pytorch tensors.\n",
        "                   )\n",
        "    \n",
        "    # Add the encoded sentence to the list.    \n",
        "    input_ids.append(encoded_dict['input_ids'])\n",
        "    \n",
        "    # And its attention mask (simply differentiates padding from non-padding).\n",
        "    attention_masks.append(encoded_dict['attention_mask'])\n",
        "\n",
        "# Convert the lists into tensors.\n",
        "input_ids = torch.cat(input_ids, dim=0)\n",
        "attention_masks = torch.cat(attention_masks, dim=0)\n",
        "labels = torch.tensor(labels)\n",
        "\n",
        "# Set the batch size.  \n",
        "batch_size = 32  \n",
        "\n",
        "# Create the DataLoader.\n",
        "prediction_data = TensorDataset(input_ids, attention_masks, labels)\n",
        "prediction_sampler = SequentialSampler(prediction_data)\n",
        "prediction_dataloader = DataLoader(prediction_data, sampler=prediction_sampler, batch_size=batch_size)"
      ],
      "execution_count": 29,
      "outputs": [
        {
          "output_type": "stream",
          "text": [
            "Number of test sentences: 516\n",
            "\n"
          ],
          "name": "stdout"
        },
        {
          "output_type": "stream",
          "text": [
            "/usr/local/lib/python3.7/dist-packages/transformers/tokenization_utils_base.py:2022: FutureWarning: The `pad_to_max_length` argument is deprecated and will be removed in a future version, use `padding=True` or `padding='longest'` to pad to the longest sequence in the batch, or use `padding='max_length'` to pad to a max length. In this case, you can give a specific length with `max_length` (e.g. `max_length=45`) or leave max_length to None to pad to the maximal input size of the model (e.g. 512 for Bert).\n",
            "  FutureWarning,\n"
          ],
          "name": "stderr"
        }
      ]
    },
    {
      "cell_type": "markdown",
      "metadata": {
        "id": "Zt8IFGY7PQkI"
      },
      "source": [
        "**5.2. Evaluate on Test Set**\n",
        "\n",
        "\n",
        "With the test set prepared, we can apply our fine-tuned model to generate predictions on the test set."
      ]
    },
    {
      "cell_type": "code",
      "metadata": {
        "colab": {
          "base_uri": "https://localhost:8080/"
        },
        "id": "ZRyAbUUFPME7",
        "outputId": "4df8d217-0ad3-4fe7-d9b3-d18b6f1e1785"
      },
      "source": [
        "# Prediction on test set\n",
        "\n",
        "print('Predicting labels for {:,} test sentences...'.format(len(input_ids)))\n",
        "\n",
        "# Put model in evaluation mode\n",
        "model.eval()\n",
        "\n",
        "# Tracking variables \n",
        "predictions , true_labels = [], []\n",
        "\n",
        "# Predict \n",
        "for batch in prediction_dataloader:\n",
        "  # Add batch to GPU\n",
        "  batch = tuple(t.to(device) for t in batch)\n",
        "  \n",
        "  # Unpack the inputs from our dataloader\n",
        "  b_input_ids, b_input_mask, b_labels = batch\n",
        "  \n",
        "  # Telling the model not to compute or store gradients, saving memory and \n",
        "  # speeding up prediction\n",
        "  with torch.no_grad():\n",
        "      # Forward pass, calculate logit predictions\n",
        "      outputs = model(b_input_ids, token_type_ids=None, \n",
        "                      attention_mask=b_input_mask)\n",
        "\n",
        "  logits = outputs[0]\n",
        "\n",
        "  # Move logits and labels to CPU\n",
        "  logits = logits.detach().cpu().numpy()\n",
        "  label_ids = b_labels.to('cpu').numpy()\n",
        "  \n",
        "  # Store predictions and true labels\n",
        "  predictions.append(logits)\n",
        "  true_labels.append(label_ids)\n",
        "\n",
        "print('    DONE.')"
      ],
      "execution_count": 31,
      "outputs": [
        {
          "output_type": "stream",
          "text": [
            "Predicting labels for 516 test sentences...\n",
            "    DONE.\n"
          ],
          "name": "stdout"
        }
      ]
    },
    {
      "cell_type": "markdown",
      "metadata": {
        "id": "ynO_YDoPPadX"
      },
      "source": [
        "Accuracy on the CoLA benchmark is measured using the “Matthews correlation coefficient” [MCC](https://scikit-learn.org/stable/modules/generated/sklearn.metrics.matthews_corrcoef.html).\n",
        "\n",
        "We use MCC here because the classes are imbalanced:"
      ]
    },
    {
      "cell_type": "code",
      "metadata": {
        "colab": {
          "base_uri": "https://localhost:8080/"
        },
        "id": "7phyFEfJPWus",
        "outputId": "1bc3d218-fad8-4c30-c699-cfbdc51f38d5"
      },
      "source": [
        "print('Positive samples: %d of %d (%.2f%%)' % (df.label.sum(), len(df.label), (df.label.sum() / len(df.label) * 100.0)))"
      ],
      "execution_count": 32,
      "outputs": [
        {
          "output_type": "stream",
          "text": [
            "Positive samples: 354 of 516 (68.60%)\n"
          ],
          "name": "stdout"
        }
      ]
    },
    {
      "cell_type": "code",
      "metadata": {
        "colab": {
          "base_uri": "https://localhost:8080/"
        },
        "id": "jsaqAeXkPnz9",
        "outputId": "225827b0-d662-4414-da0b-cc48f21bcd0c"
      },
      "source": [
        "from sklearn.metrics import matthews_corrcoef\n",
        "\n",
        "matthews_set = []\n",
        "\n",
        "# Evaluate each test batch using Matthew's correlation coefficient\n",
        "print('Calculating Matthews Corr. Coef. for each batch...')\n",
        "\n",
        "# For each input batch...\n",
        "for i in range(len(true_labels)):\n",
        "  \n",
        "  # The predictions for this batch are a 2-column ndarray (one column for \"0\" \n",
        "  # and one column for \"1\"). Pick the label with the highest value and turn this\n",
        "  # in to a list of 0s and 1s.\n",
        "  pred_labels_i = np.argmax(predictions[i], axis=1).flatten()\n",
        "  \n",
        "  # Calculate and store the coef for this batch.  \n",
        "  matthews = matthews_corrcoef(true_labels[i], pred_labels_i)                \n",
        "  matthews_set.append(matthews)"
      ],
      "execution_count": 33,
      "outputs": [
        {
          "output_type": "stream",
          "text": [
            "Calculating Matthews Corr. Coef. for each batch...\n"
          ],
          "name": "stdout"
        },
        {
          "output_type": "stream",
          "text": [
            "/usr/local/lib/python3.7/dist-packages/sklearn/metrics/_classification.py:900: RuntimeWarning: invalid value encountered in double_scalars\n",
            "  mcc = cov_ytyp / np.sqrt(cov_ytyt * cov_ypyp)\n"
          ],
          "name": "stderr"
        }
      ]
    },
    {
      "cell_type": "markdown",
      "metadata": {
        "id": "8E6gVP4TPsPh"
      },
      "source": [
        "The final score will be based on the entire test set, but let’s take a look at the scores on the individual batches to get a sense of the variability in the metric between batches.\n",
        "\n",
        "Each batch has 32 sentences in it, except the last batch which has only (516 % 32) = 4 test sentences in it."
      ]
    },
    {
      "cell_type": "code",
      "metadata": {
        "colab": {
          "base_uri": "https://localhost:8080/",
          "height": 426
        },
        "id": "vJFsR9WdPqKc",
        "outputId": "f6aafaff-bda5-46e3-ac5d-7f428d661682"
      },
      "source": [
        "# Create a barplot showing the MCC score for each batch of test samples.\n",
        "ax = sns.barplot(x=list(range(len(matthews_set))), y=matthews_set, ci=None)\n",
        "\n",
        "plt.title('MCC Score per Batch')\n",
        "plt.ylabel('MCC Score (-1 to +1)')\n",
        "plt.xlabel('Batch #')\n",
        "\n",
        "plt.show()"
      ],
      "execution_count": 34,
      "outputs": [
        {
          "output_type": "display_data",
          "data": {
            "image/png": "[encoded data removed]",
            "text/plain": [
              "<Figure size 864x432 with 1 Axes>"
            ]
          },
          "metadata": {
            "tags": []
          }
        }
      ]
    },
    {
      "cell_type": "markdown",
      "metadata": {
        "id": "OytP4U2xPv44"
      },
      "source": [
        "Now we’ll combine the results for all of the batches and calculate our final MCC score."
      ]
    },
    {
      "cell_type": "code",
      "metadata": {
        "colab": {
          "base_uri": "https://localhost:8080/"
        },
        "id": "e5qPX3KsPuL1",
        "outputId": "68ccf7bf-c9eb-4aa9-d068-0b906553c355"
      },
      "source": [
        "# Combine the results across all batches. \n",
        "flat_predictions = np.concatenate(predictions, axis=0)\n",
        "\n",
        "# For each sample, pick the label (0 or 1) with the higher score.\n",
        "flat_predictions = np.argmax(flat_predictions, axis=1).flatten()\n",
        "\n",
        "# Combine the correct labels for each batch into a single list.\n",
        "flat_true_labels = np.concatenate(true_labels, axis=0)\n",
        "\n",
        "# Calculate the MCC\n",
        "mcc = matthews_corrcoef(flat_true_labels, flat_predictions)\n",
        "\n",
        "print('Total MCC: %.3f' % mcc)"
      ],
      "execution_count": 35,
      "outputs": [
        {
          "output_type": "stream",
          "text": [
            "Total MCC: 0.530\n"
          ],
          "name": "stdout"
        }
      ]
    },
    {
      "cell_type": "markdown",
      "metadata": {
        "id": "vzOjYITTQB9h"
      },
      "source": [
        "Cool! In about half an hour and without doing any hyperparameter tuning (adjusting the learning rate, epochs, batch size, ADAM properties, etc.) we are able to get a good score.\n",
        "\n",
        "Note: To maximize the score, we should remove the “validation set” (which we used to help determine how many epochs to train for) and train on the entire training set."
      ]
    },
    {
      "cell_type": "markdown",
      "metadata": {
        "id": "sOFvtxRJQKCb"
      },
      "source": [
        "**Saving & Loading Fine-Tuned Model**\n",
        "\n"
      ]
    },
    {
      "cell_type": "code",
      "metadata": {
        "colab": {
          "base_uri": "https://localhost:8080/"
        },
        "id": "shOFijMCQJYx",
        "outputId": "25e119ff-192f-48b5-84fd-6ad8ca43d454"
      },
      "source": [
        "import os\n",
        "\n",
        "# Saving best-practices: if you use defaults names for the model, you can reload it using from_pretrained()\n",
        "\n",
        "output_dir = './model_save/'\n",
        "\n",
        "# Create output directory if needed\n",
        "if not os.path.exists(output_dir):\n",
        "    os.makedirs(output_dir)\n",
        "\n",
        "print(\"Saving model to %s\" % output_dir)\n",
        "\n",
        "# Save a trained model, configuration and tokenizer using `save_pretrained()`.\n",
        "# They can then be reloaded using `from_pretrained()`\n",
        "model_to_save = model.module if hasattr(model, 'module') else model  # Take care of distributed/parallel training\n",
        "model_to_save.save_pretrained(output_dir)\n",
        "tokenizer.save_pretrained(output_dir)\n",
        "\n",
        "# Good practice: save your training arguments together with the trained model\n",
        "# torch.save(args, os.path.join(output_dir, 'training_args.bin'))"
      ],
      "execution_count": 36,
      "outputs": [
        {
          "output_type": "stream",
          "text": [
            "Saving model to ./model_save/\n"
          ],
          "name": "stdout"
        },
        {
          "output_type": "execute_result",
          "data": {
            "text/plain": [
              "('./model_save/tokenizer_config.json',\n",
              " './model_save/special_tokens_map.json',\n",
              " './model_save/vocab.txt',\n",
              " './model_save/added_tokens.json')"
            ]
          },
          "metadata": {
            "tags": []
          },
          "execution_count": 36
        }
      ]
    },
    {
      "cell_type": "markdown",
      "metadata": {
        "id": "YXMu3VesQVph"
      },
      "source": [
        "Let’s check out the file sizes, out of curiosity."
      ]
    },
    {
      "cell_type": "code",
      "metadata": {
        "colab": {
          "base_uri": "https://localhost:8080/"
        },
        "id": "X-bFIouVPy9k",
        "outputId": "f31077da-5e0b-40bc-ec08-e99c7ef94393"
      },
      "source": [
        "!ls -l --block-size=K ./model_save/"
      ],
      "execution_count": 37,
      "outputs": [
        {
          "output_type": "stream",
          "text": [
            "total 427972K\n",
            "-rw-r--r-- 1 root root      1K Jul 19 19:32 config.json\n",
            "-rw-r--r-- 1 root root 427725K Jul 19 19:32 pytorch_model.bin\n",
            "-rw-r--r-- 1 root root      1K Jul 19 19:32 special_tokens_map.json\n",
            "-rw-r--r-- 1 root root      1K Jul 19 19:32 tokenizer_config.json\n",
            "-rw-r--r-- 1 root root    227K Jul 19 19:32 vocab.txt\n"
          ],
          "name": "stdout"
        }
      ]
    },
    {
      "cell_type": "code",
      "metadata": {
        "colab": {
          "base_uri": "https://localhost:8080/"
        },
        "id": "fndq9AyeQXX2",
        "outputId": "2868b40a-3538-4b87-8fe1-2b190e395f7c"
      },
      "source": [
        "!ls -l --block-size=M ./model_save/pytorch_model.bin"
      ],
      "execution_count": 38,
      "outputs": [
        {
          "output_type": "stream",
          "text": [
            "-rw-r--r-- 1 root root 418M Jul 19 19:32 ./model_save/pytorch_model.bin\n"
          ],
          "name": "stdout"
        }
      ]
    },
    {
      "cell_type": "code",
      "metadata": {
        "id": "Rss4olDhQaU8"
      },
      "source": [
        ""
      ],
      "execution_count": null,
      "outputs": []
    }
  ]
}